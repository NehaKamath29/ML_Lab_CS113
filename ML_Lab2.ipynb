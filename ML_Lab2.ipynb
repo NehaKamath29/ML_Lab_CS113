{
  "nbformat": 4,
  "nbformat_minor": 0,
  "metadata": {
    "colab": {
      "provenance": [],
      "authorship_tag": "ABX9TyMHTsIQD0FTGKO5yyNUQQx9",
      "include_colab_link": true
    },
    "kernelspec": {
      "name": "python3",
      "display_name": "Python 3"
    },
    "language_info": {
      "name": "python"
    }
  },
  "cells": [
    {
      "cell_type": "markdown",
      "metadata": {
        "id": "view-in-github",
        "colab_type": "text"
      },
      "source": [
        "<a href=\"https://colab.research.google.com/github/NehaKamath29/ML_Lab_CS113/blob/main/ML_Lab2.ipynb\" target=\"_parent\"><img src=\"https://colab.research.google.com/assets/colab-badge.svg\" alt=\"Open In Colab\"/></a>"
      ]
    },
    {
      "cell_type": "code",
      "execution_count": 1,
      "metadata": {
        "id": "Iernx47zazoC"
      },
      "outputs": [],
      "source": [
        "# Importing the required libraries\n",
        "import pandas as pd\n",
        "import numpy as np\n",
        "import math"
      ]
    },
    {
      "cell_type": "code",
      "source": [
        "data = pd.read_csv('/content/PlayTennis.csv')"
      ],
      "metadata": {
        "id": "fTpiI1U-bzE1"
      },
      "execution_count": 2,
      "outputs": []
    },
    {
      "cell_type": "code",
      "source": [
        "def highlight(cell_value):\n",
        "    '''\n",
        "    Highlight yes / no values in the dataframe\n",
        "    '''\n",
        "    color_1 = 'background-color: pink;'\n",
        "    color_2 = 'background-color: lightgreen;'\n",
        "\n",
        "    if cell_value == 'no':\n",
        "        return color_1\n",
        "    elif cell_value == 'yes':\n",
        "        return color_2\n",
        "\n",
        "data.style.applymap(highlight)\\\n",
        "    .set_properties(subset=data.columns, **{'width': '100px'})\\\n",
        "    .set_table_styles([{'selector': 'th', 'props': [('background-color', 'lightgray'), ('border', '1px solid gray'),\n",
        "                                                    ('font-weight', 'bold')]},\n",
        "     {'selector': 'tr:hover', 'props': [('background-color', 'white'), ('border', '1.5px solid black')]}])"
      ],
      "metadata": {
        "colab": {
          "base_uri": "https://localhost:8080/",
          "height": 503
        },
        "id": "l4ZNEFYjb8X-",
        "outputId": "0a1cf79c-e480-4b1a-a8ab-10e99578b705"
      },
      "execution_count": 3,
      "outputs": [
        {
          "output_type": "execute_result",
          "data": {
            "text/plain": [
              "<pandas.io.formats.style.Styler at 0x7911a0e6cdc0>"
            ],
            "text/html": [
              "<style type=\"text/css\">\n",
              "#T_1347c th {\n",
              "  background-color: lightgray;\n",
              "  border: 1px solid gray;\n",
              "  font-weight: bold;\n",
              "}\n",
              "#T_1347c tr:hover {\n",
              "  background-color: white;\n",
              "  border: 1.5px solid black;\n",
              "}\n",
              "#T_1347c_row0_col0, #T_1347c_row0_col1, #T_1347c_row0_col2, #T_1347c_row0_col3, #T_1347c_row1_col0, #T_1347c_row1_col1, #T_1347c_row1_col2, #T_1347c_row1_col3, #T_1347c_row2_col0, #T_1347c_row2_col1, #T_1347c_row2_col2, #T_1347c_row2_col3, #T_1347c_row3_col0, #T_1347c_row3_col1, #T_1347c_row3_col2, #T_1347c_row3_col3, #T_1347c_row4_col0, #T_1347c_row4_col1, #T_1347c_row4_col2, #T_1347c_row4_col3, #T_1347c_row5_col0, #T_1347c_row5_col1, #T_1347c_row5_col2, #T_1347c_row5_col3, #T_1347c_row6_col0, #T_1347c_row6_col1, #T_1347c_row6_col2, #T_1347c_row6_col3, #T_1347c_row7_col0, #T_1347c_row7_col1, #T_1347c_row7_col2, #T_1347c_row7_col3, #T_1347c_row8_col0, #T_1347c_row8_col1, #T_1347c_row8_col2, #T_1347c_row8_col3, #T_1347c_row9_col0, #T_1347c_row9_col1, #T_1347c_row9_col2, #T_1347c_row9_col3, #T_1347c_row10_col0, #T_1347c_row10_col1, #T_1347c_row10_col2, #T_1347c_row10_col3, #T_1347c_row11_col0, #T_1347c_row11_col1, #T_1347c_row11_col2, #T_1347c_row11_col3, #T_1347c_row12_col0, #T_1347c_row12_col1, #T_1347c_row12_col2, #T_1347c_row12_col3, #T_1347c_row13_col0, #T_1347c_row13_col1, #T_1347c_row13_col2, #T_1347c_row13_col3 {\n",
              "  width: 100px;\n",
              "}\n",
              "#T_1347c_row0_col4, #T_1347c_row1_col4, #T_1347c_row5_col4, #T_1347c_row7_col4, #T_1347c_row13_col4 {\n",
              "  background-color: pink;\n",
              "  width: 100px;\n",
              "}\n",
              "#T_1347c_row2_col4, #T_1347c_row3_col4, #T_1347c_row4_col4, #T_1347c_row6_col4, #T_1347c_row8_col4, #T_1347c_row9_col4, #T_1347c_row10_col4, #T_1347c_row11_col4, #T_1347c_row12_col4 {\n",
              "  background-color: lightgreen;\n",
              "  width: 100px;\n",
              "}\n",
              "</style>\n",
              "<table id=\"T_1347c\" class=\"dataframe\">\n",
              "  <thead>\n",
              "    <tr>\n",
              "      <th class=\"blank level0\" >&nbsp;</th>\n",
              "      <th id=\"T_1347c_level0_col0\" class=\"col_heading level0 col0\" >outlook</th>\n",
              "      <th id=\"T_1347c_level0_col1\" class=\"col_heading level0 col1\" >temp</th>\n",
              "      <th id=\"T_1347c_level0_col2\" class=\"col_heading level0 col2\" >humidity</th>\n",
              "      <th id=\"T_1347c_level0_col3\" class=\"col_heading level0 col3\" >windy</th>\n",
              "      <th id=\"T_1347c_level0_col4\" class=\"col_heading level0 col4\" >play</th>\n",
              "    </tr>\n",
              "  </thead>\n",
              "  <tbody>\n",
              "    <tr>\n",
              "      <th id=\"T_1347c_level0_row0\" class=\"row_heading level0 row0\" >0</th>\n",
              "      <td id=\"T_1347c_row0_col0\" class=\"data row0 col0\" >sunny</td>\n",
              "      <td id=\"T_1347c_row0_col1\" class=\"data row0 col1\" >hot</td>\n",
              "      <td id=\"T_1347c_row0_col2\" class=\"data row0 col2\" >high</td>\n",
              "      <td id=\"T_1347c_row0_col3\" class=\"data row0 col3\" >False</td>\n",
              "      <td id=\"T_1347c_row0_col4\" class=\"data row0 col4\" >no</td>\n",
              "    </tr>\n",
              "    <tr>\n",
              "      <th id=\"T_1347c_level0_row1\" class=\"row_heading level0 row1\" >1</th>\n",
              "      <td id=\"T_1347c_row1_col0\" class=\"data row1 col0\" >sunny</td>\n",
              "      <td id=\"T_1347c_row1_col1\" class=\"data row1 col1\" >hot</td>\n",
              "      <td id=\"T_1347c_row1_col2\" class=\"data row1 col2\" >high</td>\n",
              "      <td id=\"T_1347c_row1_col3\" class=\"data row1 col3\" >True</td>\n",
              "      <td id=\"T_1347c_row1_col4\" class=\"data row1 col4\" >no</td>\n",
              "    </tr>\n",
              "    <tr>\n",
              "      <th id=\"T_1347c_level0_row2\" class=\"row_heading level0 row2\" >2</th>\n",
              "      <td id=\"T_1347c_row2_col0\" class=\"data row2 col0\" >overcast</td>\n",
              "      <td id=\"T_1347c_row2_col1\" class=\"data row2 col1\" >hot</td>\n",
              "      <td id=\"T_1347c_row2_col2\" class=\"data row2 col2\" >high</td>\n",
              "      <td id=\"T_1347c_row2_col3\" class=\"data row2 col3\" >False</td>\n",
              "      <td id=\"T_1347c_row2_col4\" class=\"data row2 col4\" >yes</td>\n",
              "    </tr>\n",
              "    <tr>\n",
              "      <th id=\"T_1347c_level0_row3\" class=\"row_heading level0 row3\" >3</th>\n",
              "      <td id=\"T_1347c_row3_col0\" class=\"data row3 col0\" >rainy</td>\n",
              "      <td id=\"T_1347c_row3_col1\" class=\"data row3 col1\" >mild</td>\n",
              "      <td id=\"T_1347c_row3_col2\" class=\"data row3 col2\" >high</td>\n",
              "      <td id=\"T_1347c_row3_col3\" class=\"data row3 col3\" >False</td>\n",
              "      <td id=\"T_1347c_row3_col4\" class=\"data row3 col4\" >yes</td>\n",
              "    </tr>\n",
              "    <tr>\n",
              "      <th id=\"T_1347c_level0_row4\" class=\"row_heading level0 row4\" >4</th>\n",
              "      <td id=\"T_1347c_row4_col0\" class=\"data row4 col0\" >rainy</td>\n",
              "      <td id=\"T_1347c_row4_col1\" class=\"data row4 col1\" >cool</td>\n",
              "      <td id=\"T_1347c_row4_col2\" class=\"data row4 col2\" >normal</td>\n",
              "      <td id=\"T_1347c_row4_col3\" class=\"data row4 col3\" >False</td>\n",
              "      <td id=\"T_1347c_row4_col4\" class=\"data row4 col4\" >yes</td>\n",
              "    </tr>\n",
              "    <tr>\n",
              "      <th id=\"T_1347c_level0_row5\" class=\"row_heading level0 row5\" >5</th>\n",
              "      <td id=\"T_1347c_row5_col0\" class=\"data row5 col0\" >rainy</td>\n",
              "      <td id=\"T_1347c_row5_col1\" class=\"data row5 col1\" >cool</td>\n",
              "      <td id=\"T_1347c_row5_col2\" class=\"data row5 col2\" >normal</td>\n",
              "      <td id=\"T_1347c_row5_col3\" class=\"data row5 col3\" >True</td>\n",
              "      <td id=\"T_1347c_row5_col4\" class=\"data row5 col4\" >no</td>\n",
              "    </tr>\n",
              "    <tr>\n",
              "      <th id=\"T_1347c_level0_row6\" class=\"row_heading level0 row6\" >6</th>\n",
              "      <td id=\"T_1347c_row6_col0\" class=\"data row6 col0\" >overcast</td>\n",
              "      <td id=\"T_1347c_row6_col1\" class=\"data row6 col1\" >cool</td>\n",
              "      <td id=\"T_1347c_row6_col2\" class=\"data row6 col2\" >normal</td>\n",
              "      <td id=\"T_1347c_row6_col3\" class=\"data row6 col3\" >True</td>\n",
              "      <td id=\"T_1347c_row6_col4\" class=\"data row6 col4\" >yes</td>\n",
              "    </tr>\n",
              "    <tr>\n",
              "      <th id=\"T_1347c_level0_row7\" class=\"row_heading level0 row7\" >7</th>\n",
              "      <td id=\"T_1347c_row7_col0\" class=\"data row7 col0\" >sunny</td>\n",
              "      <td id=\"T_1347c_row7_col1\" class=\"data row7 col1\" >mild</td>\n",
              "      <td id=\"T_1347c_row7_col2\" class=\"data row7 col2\" >high</td>\n",
              "      <td id=\"T_1347c_row7_col3\" class=\"data row7 col3\" >False</td>\n",
              "      <td id=\"T_1347c_row7_col4\" class=\"data row7 col4\" >no</td>\n",
              "    </tr>\n",
              "    <tr>\n",
              "      <th id=\"T_1347c_level0_row8\" class=\"row_heading level0 row8\" >8</th>\n",
              "      <td id=\"T_1347c_row8_col0\" class=\"data row8 col0\" >sunny</td>\n",
              "      <td id=\"T_1347c_row8_col1\" class=\"data row8 col1\" >cool</td>\n",
              "      <td id=\"T_1347c_row8_col2\" class=\"data row8 col2\" >normal</td>\n",
              "      <td id=\"T_1347c_row8_col3\" class=\"data row8 col3\" >False</td>\n",
              "      <td id=\"T_1347c_row8_col4\" class=\"data row8 col4\" >yes</td>\n",
              "    </tr>\n",
              "    <tr>\n",
              "      <th id=\"T_1347c_level0_row9\" class=\"row_heading level0 row9\" >9</th>\n",
              "      <td id=\"T_1347c_row9_col0\" class=\"data row9 col0\" >rainy</td>\n",
              "      <td id=\"T_1347c_row9_col1\" class=\"data row9 col1\" >mild</td>\n",
              "      <td id=\"T_1347c_row9_col2\" class=\"data row9 col2\" >normal</td>\n",
              "      <td id=\"T_1347c_row9_col3\" class=\"data row9 col3\" >False</td>\n",
              "      <td id=\"T_1347c_row9_col4\" class=\"data row9 col4\" >yes</td>\n",
              "    </tr>\n",
              "    <tr>\n",
              "      <th id=\"T_1347c_level0_row10\" class=\"row_heading level0 row10\" >10</th>\n",
              "      <td id=\"T_1347c_row10_col0\" class=\"data row10 col0\" >sunny</td>\n",
              "      <td id=\"T_1347c_row10_col1\" class=\"data row10 col1\" >mild</td>\n",
              "      <td id=\"T_1347c_row10_col2\" class=\"data row10 col2\" >normal</td>\n",
              "      <td id=\"T_1347c_row10_col3\" class=\"data row10 col3\" >True</td>\n",
              "      <td id=\"T_1347c_row10_col4\" class=\"data row10 col4\" >yes</td>\n",
              "    </tr>\n",
              "    <tr>\n",
              "      <th id=\"T_1347c_level0_row11\" class=\"row_heading level0 row11\" >11</th>\n",
              "      <td id=\"T_1347c_row11_col0\" class=\"data row11 col0\" >overcast</td>\n",
              "      <td id=\"T_1347c_row11_col1\" class=\"data row11 col1\" >mild</td>\n",
              "      <td id=\"T_1347c_row11_col2\" class=\"data row11 col2\" >high</td>\n",
              "      <td id=\"T_1347c_row11_col3\" class=\"data row11 col3\" >True</td>\n",
              "      <td id=\"T_1347c_row11_col4\" class=\"data row11 col4\" >yes</td>\n",
              "    </tr>\n",
              "    <tr>\n",
              "      <th id=\"T_1347c_level0_row12\" class=\"row_heading level0 row12\" >12</th>\n",
              "      <td id=\"T_1347c_row12_col0\" class=\"data row12 col0\" >overcast</td>\n",
              "      <td id=\"T_1347c_row12_col1\" class=\"data row12 col1\" >hot</td>\n",
              "      <td id=\"T_1347c_row12_col2\" class=\"data row12 col2\" >normal</td>\n",
              "      <td id=\"T_1347c_row12_col3\" class=\"data row12 col3\" >False</td>\n",
              "      <td id=\"T_1347c_row12_col4\" class=\"data row12 col4\" >yes</td>\n",
              "    </tr>\n",
              "    <tr>\n",
              "      <th id=\"T_1347c_level0_row13\" class=\"row_heading level0 row13\" >13</th>\n",
              "      <td id=\"T_1347c_row13_col0\" class=\"data row13 col0\" >rainy</td>\n",
              "      <td id=\"T_1347c_row13_col1\" class=\"data row13 col1\" >mild</td>\n",
              "      <td id=\"T_1347c_row13_col2\" class=\"data row13 col2\" >high</td>\n",
              "      <td id=\"T_1347c_row13_col3\" class=\"data row13 col3\" >True</td>\n",
              "      <td id=\"T_1347c_row13_col4\" class=\"data row13 col4\" >no</td>\n",
              "    </tr>\n",
              "  </tbody>\n",
              "</table>\n"
            ]
          },
          "metadata": {},
          "execution_count": 3
        }
      ]
    },
    {
      "cell_type": "code",
      "source": [
        "def find_entropy(data):\n",
        "    \"\"\"\n",
        "    Returns the entropy of the class or features\n",
        "    formula: - ∑ P(X)logP(X)\n",
        "    \"\"\"\n",
        "    entropy = 0\n",
        "    for i in range(data.nunique()):\n",
        "        x = data.value_counts()[i]/data.shape[0]\n",
        "        entropy += (- x * math.log(x,2))\n",
        "    return round(entropy,3)\n",
        "\n",
        "def information_gain(data, data_):\n",
        "    \"\"\"\n",
        "    Returns the information gain of the features\n",
        "    \"\"\"\n",
        "    info = 0\n",
        "    for i in range(data_.nunique()):\n",
        "        df = data[data_ == data_.unique()[i]]\n",
        "        w_avg = df.shape[0]/data.shape[0]\n",
        "        entropy = find_entropy(df.play)\n",
        "        x = w_avg * entropy\n",
        "        info += x\n",
        "    ig = find_entropy(data.play) - info\n",
        "    return round(ig, 3)\n",
        "\n",
        "def entropy_and_infogain(datax, feature):\n",
        "    \"\"\"\n",
        "    Grouping features with the same class and computing their\n",
        "    entropy and information gain for splitting\n",
        "    \"\"\"\n",
        "    for i in range(data[feature].nunique()):\n",
        "        df = datax[datax[feature]==data[feature].unique()[i]]\n",
        "        if df.shape[0] < 1:\n",
        "            continue\n",
        "\n",
        "        display(df[[feature, 'play']].style.applymap(highlight)\\\n",
        "                .set_properties(subset=[feature, 'play'], **{'width': '80px'})\\\n",
        "                .set_table_styles([{'selector': 'th', 'props': [('background-color', 'lightgray'),\n",
        "                                                                ('border', '1px solid gray'),\n",
        "                                                                ('font-weight', 'bold')]},\n",
        "                                   {'selector': 'td', 'props': [('border', '1px solid gray')]},\n",
        "                                   {'selector': 'tr:hover', 'props': [('background-color', 'white'),\n",
        "                                                                      ('border', '1.5px solid black')]}]))\n",
        "\n",
        "        print(f'Entropy of {feature} - {data[feature].unique()[i]} = {find_entropy(df.play)}')\n",
        "    print(f'Information Gain for {feature} = {information_gain(datax, datax[feature])}')"
      ],
      "metadata": {
        "id": "vz5oP3EVeqc3"
      },
      "execution_count": 4,
      "outputs": []
    },
    {
      "cell_type": "code",
      "source": [
        "#Computing entropy for the entire dataset\n",
        "print(f'Entropy of the entire dataset: {find_entropy(data.play)}')"
      ],
      "metadata": {
        "colab": {
          "base_uri": "https://localhost:8080/"
        },
        "id": "tghFF0wjfK1P",
        "outputId": "8fef0f9b-577a-4854-8705-4b12ac8d90c5"
      },
      "execution_count": 5,
      "outputs": [
        {
          "output_type": "stream",
          "name": "stdout",
          "text": [
            "Entropy of the entire dataset: 0.94\n"
          ]
        }
      ]
    },
    {
      "cell_type": "code",
      "source": [
        "#Calculate the Information Gain for each feature."
      ],
      "metadata": {
        "id": "xNtvGDyOfSXW"
      },
      "execution_count": null,
      "outputs": []
    },
    {
      "cell_type": "code",
      "source": [
        "#Outlook\n",
        "entropy_and_infogain(data, 'outlook')"
      ],
      "metadata": {
        "colab": {
          "base_uri": "https://localhost:8080/",
          "height": 640
        },
        "id": "-FI9ZgJehBT2",
        "outputId": "6558795f-a5a6-483d-dd94-292eb016dbef"
      },
      "execution_count": 6,
      "outputs": [
        {
          "output_type": "display_data",
          "data": {
            "text/plain": [
              "<pandas.io.formats.style.Styler at 0x79116949e590>"
            ],
            "text/html": [
              "<style type=\"text/css\">\n",
              "#T_13685 th {\n",
              "  background-color: lightgray;\n",
              "  border: 1px solid gray;\n",
              "  font-weight: bold;\n",
              "}\n",
              "#T_13685 td {\n",
              "  border: 1px solid gray;\n",
              "}\n",
              "#T_13685 tr:hover {\n",
              "  background-color: white;\n",
              "  border: 1.5px solid black;\n",
              "}\n",
              "#T_13685_row0_col0, #T_13685_row1_col0, #T_13685_row2_col0, #T_13685_row3_col0, #T_13685_row4_col0 {\n",
              "  width: 80px;\n",
              "}\n",
              "#T_13685_row0_col1, #T_13685_row1_col1, #T_13685_row2_col1 {\n",
              "  background-color: pink;\n",
              "  width: 80px;\n",
              "}\n",
              "#T_13685_row3_col1, #T_13685_row4_col1 {\n",
              "  background-color: lightgreen;\n",
              "  width: 80px;\n",
              "}\n",
              "</style>\n",
              "<table id=\"T_13685\" class=\"dataframe\">\n",
              "  <thead>\n",
              "    <tr>\n",
              "      <th class=\"blank level0\" >&nbsp;</th>\n",
              "      <th id=\"T_13685_level0_col0\" class=\"col_heading level0 col0\" >outlook</th>\n",
              "      <th id=\"T_13685_level0_col1\" class=\"col_heading level0 col1\" >play</th>\n",
              "    </tr>\n",
              "  </thead>\n",
              "  <tbody>\n",
              "    <tr>\n",
              "      <th id=\"T_13685_level0_row0\" class=\"row_heading level0 row0\" >0</th>\n",
              "      <td id=\"T_13685_row0_col0\" class=\"data row0 col0\" >sunny</td>\n",
              "      <td id=\"T_13685_row0_col1\" class=\"data row0 col1\" >no</td>\n",
              "    </tr>\n",
              "    <tr>\n",
              "      <th id=\"T_13685_level0_row1\" class=\"row_heading level0 row1\" >1</th>\n",
              "      <td id=\"T_13685_row1_col0\" class=\"data row1 col0\" >sunny</td>\n",
              "      <td id=\"T_13685_row1_col1\" class=\"data row1 col1\" >no</td>\n",
              "    </tr>\n",
              "    <tr>\n",
              "      <th id=\"T_13685_level0_row2\" class=\"row_heading level0 row2\" >7</th>\n",
              "      <td id=\"T_13685_row2_col0\" class=\"data row2 col0\" >sunny</td>\n",
              "      <td id=\"T_13685_row2_col1\" class=\"data row2 col1\" >no</td>\n",
              "    </tr>\n",
              "    <tr>\n",
              "      <th id=\"T_13685_level0_row3\" class=\"row_heading level0 row3\" >8</th>\n",
              "      <td id=\"T_13685_row3_col0\" class=\"data row3 col0\" >sunny</td>\n",
              "      <td id=\"T_13685_row3_col1\" class=\"data row3 col1\" >yes</td>\n",
              "    </tr>\n",
              "    <tr>\n",
              "      <th id=\"T_13685_level0_row4\" class=\"row_heading level0 row4\" >10</th>\n",
              "      <td id=\"T_13685_row4_col0\" class=\"data row4 col0\" >sunny</td>\n",
              "      <td id=\"T_13685_row4_col1\" class=\"data row4 col1\" >yes</td>\n",
              "    </tr>\n",
              "  </tbody>\n",
              "</table>\n"
            ]
          },
          "metadata": {}
        },
        {
          "output_type": "stream",
          "name": "stdout",
          "text": [
            "Entropy of outlook - sunny = 0.971\n"
          ]
        },
        {
          "output_type": "display_data",
          "data": {
            "text/plain": [
              "<pandas.io.formats.style.Styler at 0x79116949e590>"
            ],
            "text/html": [
              "<style type=\"text/css\">\n",
              "#T_1b832 th {\n",
              "  background-color: lightgray;\n",
              "  border: 1px solid gray;\n",
              "  font-weight: bold;\n",
              "}\n",
              "#T_1b832 td {\n",
              "  border: 1px solid gray;\n",
              "}\n",
              "#T_1b832 tr:hover {\n",
              "  background-color: white;\n",
              "  border: 1.5px solid black;\n",
              "}\n",
              "#T_1b832_row0_col0, #T_1b832_row1_col0, #T_1b832_row2_col0, #T_1b832_row3_col0 {\n",
              "  width: 80px;\n",
              "}\n",
              "#T_1b832_row0_col1, #T_1b832_row1_col1, #T_1b832_row2_col1, #T_1b832_row3_col1 {\n",
              "  background-color: lightgreen;\n",
              "  width: 80px;\n",
              "}\n",
              "</style>\n",
              "<table id=\"T_1b832\" class=\"dataframe\">\n",
              "  <thead>\n",
              "    <tr>\n",
              "      <th class=\"blank level0\" >&nbsp;</th>\n",
              "      <th id=\"T_1b832_level0_col0\" class=\"col_heading level0 col0\" >outlook</th>\n",
              "      <th id=\"T_1b832_level0_col1\" class=\"col_heading level0 col1\" >play</th>\n",
              "    </tr>\n",
              "  </thead>\n",
              "  <tbody>\n",
              "    <tr>\n",
              "      <th id=\"T_1b832_level0_row0\" class=\"row_heading level0 row0\" >2</th>\n",
              "      <td id=\"T_1b832_row0_col0\" class=\"data row0 col0\" >overcast</td>\n",
              "      <td id=\"T_1b832_row0_col1\" class=\"data row0 col1\" >yes</td>\n",
              "    </tr>\n",
              "    <tr>\n",
              "      <th id=\"T_1b832_level0_row1\" class=\"row_heading level0 row1\" >6</th>\n",
              "      <td id=\"T_1b832_row1_col0\" class=\"data row1 col0\" >overcast</td>\n",
              "      <td id=\"T_1b832_row1_col1\" class=\"data row1 col1\" >yes</td>\n",
              "    </tr>\n",
              "    <tr>\n",
              "      <th id=\"T_1b832_level0_row2\" class=\"row_heading level0 row2\" >11</th>\n",
              "      <td id=\"T_1b832_row2_col0\" class=\"data row2 col0\" >overcast</td>\n",
              "      <td id=\"T_1b832_row2_col1\" class=\"data row2 col1\" >yes</td>\n",
              "    </tr>\n",
              "    <tr>\n",
              "      <th id=\"T_1b832_level0_row3\" class=\"row_heading level0 row3\" >12</th>\n",
              "      <td id=\"T_1b832_row3_col0\" class=\"data row3 col0\" >overcast</td>\n",
              "      <td id=\"T_1b832_row3_col1\" class=\"data row3 col1\" >yes</td>\n",
              "    </tr>\n",
              "  </tbody>\n",
              "</table>\n"
            ]
          },
          "metadata": {}
        },
        {
          "output_type": "stream",
          "name": "stdout",
          "text": [
            "Entropy of outlook - overcast = 0.0\n"
          ]
        },
        {
          "output_type": "display_data",
          "data": {
            "text/plain": [
              "<pandas.io.formats.style.Styler at 0x79116949d0c0>"
            ],
            "text/html": [
              "<style type=\"text/css\">\n",
              "#T_88246 th {\n",
              "  background-color: lightgray;\n",
              "  border: 1px solid gray;\n",
              "  font-weight: bold;\n",
              "}\n",
              "#T_88246 td {\n",
              "  border: 1px solid gray;\n",
              "}\n",
              "#T_88246 tr:hover {\n",
              "  background-color: white;\n",
              "  border: 1.5px solid black;\n",
              "}\n",
              "#T_88246_row0_col0, #T_88246_row1_col0, #T_88246_row2_col0, #T_88246_row3_col0, #T_88246_row4_col0 {\n",
              "  width: 80px;\n",
              "}\n",
              "#T_88246_row0_col1, #T_88246_row1_col1, #T_88246_row3_col1 {\n",
              "  background-color: lightgreen;\n",
              "  width: 80px;\n",
              "}\n",
              "#T_88246_row2_col1, #T_88246_row4_col1 {\n",
              "  background-color: pink;\n",
              "  width: 80px;\n",
              "}\n",
              "</style>\n",
              "<table id=\"T_88246\" class=\"dataframe\">\n",
              "  <thead>\n",
              "    <tr>\n",
              "      <th class=\"blank level0\" >&nbsp;</th>\n",
              "      <th id=\"T_88246_level0_col0\" class=\"col_heading level0 col0\" >outlook</th>\n",
              "      <th id=\"T_88246_level0_col1\" class=\"col_heading level0 col1\" >play</th>\n",
              "    </tr>\n",
              "  </thead>\n",
              "  <tbody>\n",
              "    <tr>\n",
              "      <th id=\"T_88246_level0_row0\" class=\"row_heading level0 row0\" >3</th>\n",
              "      <td id=\"T_88246_row0_col0\" class=\"data row0 col0\" >rainy</td>\n",
              "      <td id=\"T_88246_row0_col1\" class=\"data row0 col1\" >yes</td>\n",
              "    </tr>\n",
              "    <tr>\n",
              "      <th id=\"T_88246_level0_row1\" class=\"row_heading level0 row1\" >4</th>\n",
              "      <td id=\"T_88246_row1_col0\" class=\"data row1 col0\" >rainy</td>\n",
              "      <td id=\"T_88246_row1_col1\" class=\"data row1 col1\" >yes</td>\n",
              "    </tr>\n",
              "    <tr>\n",
              "      <th id=\"T_88246_level0_row2\" class=\"row_heading level0 row2\" >5</th>\n",
              "      <td id=\"T_88246_row2_col0\" class=\"data row2 col0\" >rainy</td>\n",
              "      <td id=\"T_88246_row2_col1\" class=\"data row2 col1\" >no</td>\n",
              "    </tr>\n",
              "    <tr>\n",
              "      <th id=\"T_88246_level0_row3\" class=\"row_heading level0 row3\" >9</th>\n",
              "      <td id=\"T_88246_row3_col0\" class=\"data row3 col0\" >rainy</td>\n",
              "      <td id=\"T_88246_row3_col1\" class=\"data row3 col1\" >yes</td>\n",
              "    </tr>\n",
              "    <tr>\n",
              "      <th id=\"T_88246_level0_row4\" class=\"row_heading level0 row4\" >13</th>\n",
              "      <td id=\"T_88246_row4_col0\" class=\"data row4 col0\" >rainy</td>\n",
              "      <td id=\"T_88246_row4_col1\" class=\"data row4 col1\" >no</td>\n",
              "    </tr>\n",
              "  </tbody>\n",
              "</table>\n"
            ]
          },
          "metadata": {}
        },
        {
          "output_type": "stream",
          "name": "stdout",
          "text": [
            "Entropy of outlook - rainy = 0.971\n",
            "Information Gain for outlook = 0.246\n"
          ]
        }
      ]
    },
    {
      "cell_type": "code",
      "source": [
        "#Temp\n",
        "entropy_and_infogain(data, 'temp')"
      ],
      "metadata": {
        "colab": {
          "base_uri": "https://localhost:8080/",
          "height": 640
        },
        "id": "RCGFac9JhfdO",
        "outputId": "954c536c-63b3-4300-8ebe-ce6ade5ea0b3"
      },
      "execution_count": 7,
      "outputs": [
        {
          "output_type": "display_data",
          "data": {
            "text/plain": [
              "<pandas.io.formats.style.Styler at 0x79116949efe0>"
            ],
            "text/html": [
              "<style type=\"text/css\">\n",
              "#T_b0f4b th {\n",
              "  background-color: lightgray;\n",
              "  border: 1px solid gray;\n",
              "  font-weight: bold;\n",
              "}\n",
              "#T_b0f4b td {\n",
              "  border: 1px solid gray;\n",
              "}\n",
              "#T_b0f4b tr:hover {\n",
              "  background-color: white;\n",
              "  border: 1.5px solid black;\n",
              "}\n",
              "#T_b0f4b_row0_col0, #T_b0f4b_row1_col0, #T_b0f4b_row2_col0, #T_b0f4b_row3_col0 {\n",
              "  width: 80px;\n",
              "}\n",
              "#T_b0f4b_row0_col1, #T_b0f4b_row1_col1 {\n",
              "  background-color: pink;\n",
              "  width: 80px;\n",
              "}\n",
              "#T_b0f4b_row2_col1, #T_b0f4b_row3_col1 {\n",
              "  background-color: lightgreen;\n",
              "  width: 80px;\n",
              "}\n",
              "</style>\n",
              "<table id=\"T_b0f4b\" class=\"dataframe\">\n",
              "  <thead>\n",
              "    <tr>\n",
              "      <th class=\"blank level0\" >&nbsp;</th>\n",
              "      <th id=\"T_b0f4b_level0_col0\" class=\"col_heading level0 col0\" >temp</th>\n",
              "      <th id=\"T_b0f4b_level0_col1\" class=\"col_heading level0 col1\" >play</th>\n",
              "    </tr>\n",
              "  </thead>\n",
              "  <tbody>\n",
              "    <tr>\n",
              "      <th id=\"T_b0f4b_level0_row0\" class=\"row_heading level0 row0\" >0</th>\n",
              "      <td id=\"T_b0f4b_row0_col0\" class=\"data row0 col0\" >hot</td>\n",
              "      <td id=\"T_b0f4b_row0_col1\" class=\"data row0 col1\" >no</td>\n",
              "    </tr>\n",
              "    <tr>\n",
              "      <th id=\"T_b0f4b_level0_row1\" class=\"row_heading level0 row1\" >1</th>\n",
              "      <td id=\"T_b0f4b_row1_col0\" class=\"data row1 col0\" >hot</td>\n",
              "      <td id=\"T_b0f4b_row1_col1\" class=\"data row1 col1\" >no</td>\n",
              "    </tr>\n",
              "    <tr>\n",
              "      <th id=\"T_b0f4b_level0_row2\" class=\"row_heading level0 row2\" >2</th>\n",
              "      <td id=\"T_b0f4b_row2_col0\" class=\"data row2 col0\" >hot</td>\n",
              "      <td id=\"T_b0f4b_row2_col1\" class=\"data row2 col1\" >yes</td>\n",
              "    </tr>\n",
              "    <tr>\n",
              "      <th id=\"T_b0f4b_level0_row3\" class=\"row_heading level0 row3\" >12</th>\n",
              "      <td id=\"T_b0f4b_row3_col0\" class=\"data row3 col0\" >hot</td>\n",
              "      <td id=\"T_b0f4b_row3_col1\" class=\"data row3 col1\" >yes</td>\n",
              "    </tr>\n",
              "  </tbody>\n",
              "</table>\n"
            ]
          },
          "metadata": {}
        },
        {
          "output_type": "stream",
          "name": "stdout",
          "text": [
            "Entropy of temp - hot = 1.0\n"
          ]
        },
        {
          "output_type": "display_data",
          "data": {
            "text/plain": [
              "<pandas.io.formats.style.Styler at 0x79116949efe0>"
            ],
            "text/html": [
              "<style type=\"text/css\">\n",
              "#T_d0678 th {\n",
              "  background-color: lightgray;\n",
              "  border: 1px solid gray;\n",
              "  font-weight: bold;\n",
              "}\n",
              "#T_d0678 td {\n",
              "  border: 1px solid gray;\n",
              "}\n",
              "#T_d0678 tr:hover {\n",
              "  background-color: white;\n",
              "  border: 1.5px solid black;\n",
              "}\n",
              "#T_d0678_row0_col0, #T_d0678_row1_col0, #T_d0678_row2_col0, #T_d0678_row3_col0, #T_d0678_row4_col0, #T_d0678_row5_col0 {\n",
              "  width: 80px;\n",
              "}\n",
              "#T_d0678_row0_col1, #T_d0678_row2_col1, #T_d0678_row3_col1, #T_d0678_row4_col1 {\n",
              "  background-color: lightgreen;\n",
              "  width: 80px;\n",
              "}\n",
              "#T_d0678_row1_col1, #T_d0678_row5_col1 {\n",
              "  background-color: pink;\n",
              "  width: 80px;\n",
              "}\n",
              "</style>\n",
              "<table id=\"T_d0678\" class=\"dataframe\">\n",
              "  <thead>\n",
              "    <tr>\n",
              "      <th class=\"blank level0\" >&nbsp;</th>\n",
              "      <th id=\"T_d0678_level0_col0\" class=\"col_heading level0 col0\" >temp</th>\n",
              "      <th id=\"T_d0678_level0_col1\" class=\"col_heading level0 col1\" >play</th>\n",
              "    </tr>\n",
              "  </thead>\n",
              "  <tbody>\n",
              "    <tr>\n",
              "      <th id=\"T_d0678_level0_row0\" class=\"row_heading level0 row0\" >3</th>\n",
              "      <td id=\"T_d0678_row0_col0\" class=\"data row0 col0\" >mild</td>\n",
              "      <td id=\"T_d0678_row0_col1\" class=\"data row0 col1\" >yes</td>\n",
              "    </tr>\n",
              "    <tr>\n",
              "      <th id=\"T_d0678_level0_row1\" class=\"row_heading level0 row1\" >7</th>\n",
              "      <td id=\"T_d0678_row1_col0\" class=\"data row1 col0\" >mild</td>\n",
              "      <td id=\"T_d0678_row1_col1\" class=\"data row1 col1\" >no</td>\n",
              "    </tr>\n",
              "    <tr>\n",
              "      <th id=\"T_d0678_level0_row2\" class=\"row_heading level0 row2\" >9</th>\n",
              "      <td id=\"T_d0678_row2_col0\" class=\"data row2 col0\" >mild</td>\n",
              "      <td id=\"T_d0678_row2_col1\" class=\"data row2 col1\" >yes</td>\n",
              "    </tr>\n",
              "    <tr>\n",
              "      <th id=\"T_d0678_level0_row3\" class=\"row_heading level0 row3\" >10</th>\n",
              "      <td id=\"T_d0678_row3_col0\" class=\"data row3 col0\" >mild</td>\n",
              "      <td id=\"T_d0678_row3_col1\" class=\"data row3 col1\" >yes</td>\n",
              "    </tr>\n",
              "    <tr>\n",
              "      <th id=\"T_d0678_level0_row4\" class=\"row_heading level0 row4\" >11</th>\n",
              "      <td id=\"T_d0678_row4_col0\" class=\"data row4 col0\" >mild</td>\n",
              "      <td id=\"T_d0678_row4_col1\" class=\"data row4 col1\" >yes</td>\n",
              "    </tr>\n",
              "    <tr>\n",
              "      <th id=\"T_d0678_level0_row5\" class=\"row_heading level0 row5\" >13</th>\n",
              "      <td id=\"T_d0678_row5_col0\" class=\"data row5 col0\" >mild</td>\n",
              "      <td id=\"T_d0678_row5_col1\" class=\"data row5 col1\" >no</td>\n",
              "    </tr>\n",
              "  </tbody>\n",
              "</table>\n"
            ]
          },
          "metadata": {}
        },
        {
          "output_type": "stream",
          "name": "stdout",
          "text": [
            "Entropy of temp - mild = 0.918\n"
          ]
        },
        {
          "output_type": "display_data",
          "data": {
            "text/plain": [
              "<pandas.io.formats.style.Styler at 0x79116949efe0>"
            ],
            "text/html": [
              "<style type=\"text/css\">\n",
              "#T_35c5f th {\n",
              "  background-color: lightgray;\n",
              "  border: 1px solid gray;\n",
              "  font-weight: bold;\n",
              "}\n",
              "#T_35c5f td {\n",
              "  border: 1px solid gray;\n",
              "}\n",
              "#T_35c5f tr:hover {\n",
              "  background-color: white;\n",
              "  border: 1.5px solid black;\n",
              "}\n",
              "#T_35c5f_row0_col0, #T_35c5f_row1_col0, #T_35c5f_row2_col0, #T_35c5f_row3_col0 {\n",
              "  width: 80px;\n",
              "}\n",
              "#T_35c5f_row0_col1, #T_35c5f_row2_col1, #T_35c5f_row3_col1 {\n",
              "  background-color: lightgreen;\n",
              "  width: 80px;\n",
              "}\n",
              "#T_35c5f_row1_col1 {\n",
              "  background-color: pink;\n",
              "  width: 80px;\n",
              "}\n",
              "</style>\n",
              "<table id=\"T_35c5f\" class=\"dataframe\">\n",
              "  <thead>\n",
              "    <tr>\n",
              "      <th class=\"blank level0\" >&nbsp;</th>\n",
              "      <th id=\"T_35c5f_level0_col0\" class=\"col_heading level0 col0\" >temp</th>\n",
              "      <th id=\"T_35c5f_level0_col1\" class=\"col_heading level0 col1\" >play</th>\n",
              "    </tr>\n",
              "  </thead>\n",
              "  <tbody>\n",
              "    <tr>\n",
              "      <th id=\"T_35c5f_level0_row0\" class=\"row_heading level0 row0\" >4</th>\n",
              "      <td id=\"T_35c5f_row0_col0\" class=\"data row0 col0\" >cool</td>\n",
              "      <td id=\"T_35c5f_row0_col1\" class=\"data row0 col1\" >yes</td>\n",
              "    </tr>\n",
              "    <tr>\n",
              "      <th id=\"T_35c5f_level0_row1\" class=\"row_heading level0 row1\" >5</th>\n",
              "      <td id=\"T_35c5f_row1_col0\" class=\"data row1 col0\" >cool</td>\n",
              "      <td id=\"T_35c5f_row1_col1\" class=\"data row1 col1\" >no</td>\n",
              "    </tr>\n",
              "    <tr>\n",
              "      <th id=\"T_35c5f_level0_row2\" class=\"row_heading level0 row2\" >6</th>\n",
              "      <td id=\"T_35c5f_row2_col0\" class=\"data row2 col0\" >cool</td>\n",
              "      <td id=\"T_35c5f_row2_col1\" class=\"data row2 col1\" >yes</td>\n",
              "    </tr>\n",
              "    <tr>\n",
              "      <th id=\"T_35c5f_level0_row3\" class=\"row_heading level0 row3\" >8</th>\n",
              "      <td id=\"T_35c5f_row3_col0\" class=\"data row3 col0\" >cool</td>\n",
              "      <td id=\"T_35c5f_row3_col1\" class=\"data row3 col1\" >yes</td>\n",
              "    </tr>\n",
              "  </tbody>\n",
              "</table>\n"
            ]
          },
          "metadata": {}
        },
        {
          "output_type": "stream",
          "name": "stdout",
          "text": [
            "Entropy of temp - cool = 0.811\n",
            "Information Gain for temp = 0.029\n"
          ]
        }
      ]
    },
    {
      "cell_type": "code",
      "source": [
        "#Humidity\n",
        "entropy_and_infogain(data, 'humidity')"
      ],
      "metadata": {
        "colab": {
          "base_uri": "https://localhost:8080/",
          "height": 589
        },
        "id": "alrYHpeXhnKG",
        "outputId": "84b5e2df-4176-48b9-c3a7-416e0694e8c1"
      },
      "execution_count": 8,
      "outputs": [
        {
          "output_type": "display_data",
          "data": {
            "text/plain": [
              "<pandas.io.formats.style.Styler at 0x79116949f820>"
            ],
            "text/html": [
              "<style type=\"text/css\">\n",
              "#T_68bcb th {\n",
              "  background-color: lightgray;\n",
              "  border: 1px solid gray;\n",
              "  font-weight: bold;\n",
              "}\n",
              "#T_68bcb td {\n",
              "  border: 1px solid gray;\n",
              "}\n",
              "#T_68bcb tr:hover {\n",
              "  background-color: white;\n",
              "  border: 1.5px solid black;\n",
              "}\n",
              "#T_68bcb_row0_col0, #T_68bcb_row1_col0, #T_68bcb_row2_col0, #T_68bcb_row3_col0, #T_68bcb_row4_col0, #T_68bcb_row5_col0, #T_68bcb_row6_col0 {\n",
              "  width: 80px;\n",
              "}\n",
              "#T_68bcb_row0_col1, #T_68bcb_row1_col1, #T_68bcb_row4_col1, #T_68bcb_row6_col1 {\n",
              "  background-color: pink;\n",
              "  width: 80px;\n",
              "}\n",
              "#T_68bcb_row2_col1, #T_68bcb_row3_col1, #T_68bcb_row5_col1 {\n",
              "  background-color: lightgreen;\n",
              "  width: 80px;\n",
              "}\n",
              "</style>\n",
              "<table id=\"T_68bcb\" class=\"dataframe\">\n",
              "  <thead>\n",
              "    <tr>\n",
              "      <th class=\"blank level0\" >&nbsp;</th>\n",
              "      <th id=\"T_68bcb_level0_col0\" class=\"col_heading level0 col0\" >humidity</th>\n",
              "      <th id=\"T_68bcb_level0_col1\" class=\"col_heading level0 col1\" >play</th>\n",
              "    </tr>\n",
              "  </thead>\n",
              "  <tbody>\n",
              "    <tr>\n",
              "      <th id=\"T_68bcb_level0_row0\" class=\"row_heading level0 row0\" >0</th>\n",
              "      <td id=\"T_68bcb_row0_col0\" class=\"data row0 col0\" >high</td>\n",
              "      <td id=\"T_68bcb_row0_col1\" class=\"data row0 col1\" >no</td>\n",
              "    </tr>\n",
              "    <tr>\n",
              "      <th id=\"T_68bcb_level0_row1\" class=\"row_heading level0 row1\" >1</th>\n",
              "      <td id=\"T_68bcb_row1_col0\" class=\"data row1 col0\" >high</td>\n",
              "      <td id=\"T_68bcb_row1_col1\" class=\"data row1 col1\" >no</td>\n",
              "    </tr>\n",
              "    <tr>\n",
              "      <th id=\"T_68bcb_level0_row2\" class=\"row_heading level0 row2\" >2</th>\n",
              "      <td id=\"T_68bcb_row2_col0\" class=\"data row2 col0\" >high</td>\n",
              "      <td id=\"T_68bcb_row2_col1\" class=\"data row2 col1\" >yes</td>\n",
              "    </tr>\n",
              "    <tr>\n",
              "      <th id=\"T_68bcb_level0_row3\" class=\"row_heading level0 row3\" >3</th>\n",
              "      <td id=\"T_68bcb_row3_col0\" class=\"data row3 col0\" >high</td>\n",
              "      <td id=\"T_68bcb_row3_col1\" class=\"data row3 col1\" >yes</td>\n",
              "    </tr>\n",
              "    <tr>\n",
              "      <th id=\"T_68bcb_level0_row4\" class=\"row_heading level0 row4\" >7</th>\n",
              "      <td id=\"T_68bcb_row4_col0\" class=\"data row4 col0\" >high</td>\n",
              "      <td id=\"T_68bcb_row4_col1\" class=\"data row4 col1\" >no</td>\n",
              "    </tr>\n",
              "    <tr>\n",
              "      <th id=\"T_68bcb_level0_row5\" class=\"row_heading level0 row5\" >11</th>\n",
              "      <td id=\"T_68bcb_row5_col0\" class=\"data row5 col0\" >high</td>\n",
              "      <td id=\"T_68bcb_row5_col1\" class=\"data row5 col1\" >yes</td>\n",
              "    </tr>\n",
              "    <tr>\n",
              "      <th id=\"T_68bcb_level0_row6\" class=\"row_heading level0 row6\" >13</th>\n",
              "      <td id=\"T_68bcb_row6_col0\" class=\"data row6 col0\" >high</td>\n",
              "      <td id=\"T_68bcb_row6_col1\" class=\"data row6 col1\" >no</td>\n",
              "    </tr>\n",
              "  </tbody>\n",
              "</table>\n"
            ]
          },
          "metadata": {}
        },
        {
          "output_type": "stream",
          "name": "stdout",
          "text": [
            "Entropy of humidity - high = 0.985\n"
          ]
        },
        {
          "output_type": "display_data",
          "data": {
            "text/plain": [
              "<pandas.io.formats.style.Styler at 0x79116949f820>"
            ],
            "text/html": [
              "<style type=\"text/css\">\n",
              "#T_87795 th {\n",
              "  background-color: lightgray;\n",
              "  border: 1px solid gray;\n",
              "  font-weight: bold;\n",
              "}\n",
              "#T_87795 td {\n",
              "  border: 1px solid gray;\n",
              "}\n",
              "#T_87795 tr:hover {\n",
              "  background-color: white;\n",
              "  border: 1.5px solid black;\n",
              "}\n",
              "#T_87795_row0_col0, #T_87795_row1_col0, #T_87795_row2_col0, #T_87795_row3_col0, #T_87795_row4_col0, #T_87795_row5_col0, #T_87795_row6_col0 {\n",
              "  width: 80px;\n",
              "}\n",
              "#T_87795_row0_col1, #T_87795_row2_col1, #T_87795_row3_col1, #T_87795_row4_col1, #T_87795_row5_col1, #T_87795_row6_col1 {\n",
              "  background-color: lightgreen;\n",
              "  width: 80px;\n",
              "}\n",
              "#T_87795_row1_col1 {\n",
              "  background-color: pink;\n",
              "  width: 80px;\n",
              "}\n",
              "</style>\n",
              "<table id=\"T_87795\" class=\"dataframe\">\n",
              "  <thead>\n",
              "    <tr>\n",
              "      <th class=\"blank level0\" >&nbsp;</th>\n",
              "      <th id=\"T_87795_level0_col0\" class=\"col_heading level0 col0\" >humidity</th>\n",
              "      <th id=\"T_87795_level0_col1\" class=\"col_heading level0 col1\" >play</th>\n",
              "    </tr>\n",
              "  </thead>\n",
              "  <tbody>\n",
              "    <tr>\n",
              "      <th id=\"T_87795_level0_row0\" class=\"row_heading level0 row0\" >4</th>\n",
              "      <td id=\"T_87795_row0_col0\" class=\"data row0 col0\" >normal</td>\n",
              "      <td id=\"T_87795_row0_col1\" class=\"data row0 col1\" >yes</td>\n",
              "    </tr>\n",
              "    <tr>\n",
              "      <th id=\"T_87795_level0_row1\" class=\"row_heading level0 row1\" >5</th>\n",
              "      <td id=\"T_87795_row1_col0\" class=\"data row1 col0\" >normal</td>\n",
              "      <td id=\"T_87795_row1_col1\" class=\"data row1 col1\" >no</td>\n",
              "    </tr>\n",
              "    <tr>\n",
              "      <th id=\"T_87795_level0_row2\" class=\"row_heading level0 row2\" >6</th>\n",
              "      <td id=\"T_87795_row2_col0\" class=\"data row2 col0\" >normal</td>\n",
              "      <td id=\"T_87795_row2_col1\" class=\"data row2 col1\" >yes</td>\n",
              "    </tr>\n",
              "    <tr>\n",
              "      <th id=\"T_87795_level0_row3\" class=\"row_heading level0 row3\" >8</th>\n",
              "      <td id=\"T_87795_row3_col0\" class=\"data row3 col0\" >normal</td>\n",
              "      <td id=\"T_87795_row3_col1\" class=\"data row3 col1\" >yes</td>\n",
              "    </tr>\n",
              "    <tr>\n",
              "      <th id=\"T_87795_level0_row4\" class=\"row_heading level0 row4\" >9</th>\n",
              "      <td id=\"T_87795_row4_col0\" class=\"data row4 col0\" >normal</td>\n",
              "      <td id=\"T_87795_row4_col1\" class=\"data row4 col1\" >yes</td>\n",
              "    </tr>\n",
              "    <tr>\n",
              "      <th id=\"T_87795_level0_row5\" class=\"row_heading level0 row5\" >10</th>\n",
              "      <td id=\"T_87795_row5_col0\" class=\"data row5 col0\" >normal</td>\n",
              "      <td id=\"T_87795_row5_col1\" class=\"data row5 col1\" >yes</td>\n",
              "    </tr>\n",
              "    <tr>\n",
              "      <th id=\"T_87795_level0_row6\" class=\"row_heading level0 row6\" >12</th>\n",
              "      <td id=\"T_87795_row6_col0\" class=\"data row6 col0\" >normal</td>\n",
              "      <td id=\"T_87795_row6_col1\" class=\"data row6 col1\" >yes</td>\n",
              "    </tr>\n",
              "  </tbody>\n",
              "</table>\n"
            ]
          },
          "metadata": {}
        },
        {
          "output_type": "stream",
          "name": "stdout",
          "text": [
            "Entropy of humidity - normal = 0.592\n",
            "Information Gain for humidity = 0.151\n"
          ]
        }
      ]
    },
    {
      "cell_type": "code",
      "source": [
        "#Windy\n",
        "entropy_and_infogain(data, 'windy')"
      ],
      "metadata": {
        "colab": {
          "base_uri": "https://localhost:8080/",
          "height": 589
        },
        "id": "tYz8jCw6ht8P",
        "outputId": "be393941-68fc-4372-f151-20b127031312"
      },
      "execution_count": 9,
      "outputs": [
        {
          "output_type": "display_data",
          "data": {
            "text/plain": [
              "<pandas.io.formats.style.Styler at 0x79116949f6a0>"
            ],
            "text/html": [
              "<style type=\"text/css\">\n",
              "#T_1817c th {\n",
              "  background-color: lightgray;\n",
              "  border: 1px solid gray;\n",
              "  font-weight: bold;\n",
              "}\n",
              "#T_1817c td {\n",
              "  border: 1px solid gray;\n",
              "}\n",
              "#T_1817c tr:hover {\n",
              "  background-color: white;\n",
              "  border: 1.5px solid black;\n",
              "}\n",
              "#T_1817c_row0_col0, #T_1817c_row1_col0, #T_1817c_row2_col0, #T_1817c_row3_col0, #T_1817c_row4_col0, #T_1817c_row5_col0, #T_1817c_row6_col0, #T_1817c_row7_col0 {\n",
              "  width: 80px;\n",
              "}\n",
              "#T_1817c_row0_col1, #T_1817c_row4_col1 {\n",
              "  background-color: pink;\n",
              "  width: 80px;\n",
              "}\n",
              "#T_1817c_row1_col1, #T_1817c_row2_col1, #T_1817c_row3_col1, #T_1817c_row5_col1, #T_1817c_row6_col1, #T_1817c_row7_col1 {\n",
              "  background-color: lightgreen;\n",
              "  width: 80px;\n",
              "}\n",
              "</style>\n",
              "<table id=\"T_1817c\" class=\"dataframe\">\n",
              "  <thead>\n",
              "    <tr>\n",
              "      <th class=\"blank level0\" >&nbsp;</th>\n",
              "      <th id=\"T_1817c_level0_col0\" class=\"col_heading level0 col0\" >windy</th>\n",
              "      <th id=\"T_1817c_level0_col1\" class=\"col_heading level0 col1\" >play</th>\n",
              "    </tr>\n",
              "  </thead>\n",
              "  <tbody>\n",
              "    <tr>\n",
              "      <th id=\"T_1817c_level0_row0\" class=\"row_heading level0 row0\" >0</th>\n",
              "      <td id=\"T_1817c_row0_col0\" class=\"data row0 col0\" >False</td>\n",
              "      <td id=\"T_1817c_row0_col1\" class=\"data row0 col1\" >no</td>\n",
              "    </tr>\n",
              "    <tr>\n",
              "      <th id=\"T_1817c_level0_row1\" class=\"row_heading level0 row1\" >2</th>\n",
              "      <td id=\"T_1817c_row1_col0\" class=\"data row1 col0\" >False</td>\n",
              "      <td id=\"T_1817c_row1_col1\" class=\"data row1 col1\" >yes</td>\n",
              "    </tr>\n",
              "    <tr>\n",
              "      <th id=\"T_1817c_level0_row2\" class=\"row_heading level0 row2\" >3</th>\n",
              "      <td id=\"T_1817c_row2_col0\" class=\"data row2 col0\" >False</td>\n",
              "      <td id=\"T_1817c_row2_col1\" class=\"data row2 col1\" >yes</td>\n",
              "    </tr>\n",
              "    <tr>\n",
              "      <th id=\"T_1817c_level0_row3\" class=\"row_heading level0 row3\" >4</th>\n",
              "      <td id=\"T_1817c_row3_col0\" class=\"data row3 col0\" >False</td>\n",
              "      <td id=\"T_1817c_row3_col1\" class=\"data row3 col1\" >yes</td>\n",
              "    </tr>\n",
              "    <tr>\n",
              "      <th id=\"T_1817c_level0_row4\" class=\"row_heading level0 row4\" >7</th>\n",
              "      <td id=\"T_1817c_row4_col0\" class=\"data row4 col0\" >False</td>\n",
              "      <td id=\"T_1817c_row4_col1\" class=\"data row4 col1\" >no</td>\n",
              "    </tr>\n",
              "    <tr>\n",
              "      <th id=\"T_1817c_level0_row5\" class=\"row_heading level0 row5\" >8</th>\n",
              "      <td id=\"T_1817c_row5_col0\" class=\"data row5 col0\" >False</td>\n",
              "      <td id=\"T_1817c_row5_col1\" class=\"data row5 col1\" >yes</td>\n",
              "    </tr>\n",
              "    <tr>\n",
              "      <th id=\"T_1817c_level0_row6\" class=\"row_heading level0 row6\" >9</th>\n",
              "      <td id=\"T_1817c_row6_col0\" class=\"data row6 col0\" >False</td>\n",
              "      <td id=\"T_1817c_row6_col1\" class=\"data row6 col1\" >yes</td>\n",
              "    </tr>\n",
              "    <tr>\n",
              "      <th id=\"T_1817c_level0_row7\" class=\"row_heading level0 row7\" >12</th>\n",
              "      <td id=\"T_1817c_row7_col0\" class=\"data row7 col0\" >False</td>\n",
              "      <td id=\"T_1817c_row7_col1\" class=\"data row7 col1\" >yes</td>\n",
              "    </tr>\n",
              "  </tbody>\n",
              "</table>\n"
            ]
          },
          "metadata": {}
        },
        {
          "output_type": "stream",
          "name": "stdout",
          "text": [
            "Entropy of windy - False = 0.811\n"
          ]
        },
        {
          "output_type": "display_data",
          "data": {
            "text/plain": [
              "<pandas.io.formats.style.Styler at 0x79116949db40>"
            ],
            "text/html": [
              "<style type=\"text/css\">\n",
              "#T_62d10 th {\n",
              "  background-color: lightgray;\n",
              "  border: 1px solid gray;\n",
              "  font-weight: bold;\n",
              "}\n",
              "#T_62d10 td {\n",
              "  border: 1px solid gray;\n",
              "}\n",
              "#T_62d10 tr:hover {\n",
              "  background-color: white;\n",
              "  border: 1.5px solid black;\n",
              "}\n",
              "#T_62d10_row0_col0, #T_62d10_row1_col0, #T_62d10_row2_col0, #T_62d10_row3_col0, #T_62d10_row4_col0, #T_62d10_row5_col0 {\n",
              "  width: 80px;\n",
              "}\n",
              "#T_62d10_row0_col1, #T_62d10_row1_col1, #T_62d10_row5_col1 {\n",
              "  background-color: pink;\n",
              "  width: 80px;\n",
              "}\n",
              "#T_62d10_row2_col1, #T_62d10_row3_col1, #T_62d10_row4_col1 {\n",
              "  background-color: lightgreen;\n",
              "  width: 80px;\n",
              "}\n",
              "</style>\n",
              "<table id=\"T_62d10\" class=\"dataframe\">\n",
              "  <thead>\n",
              "    <tr>\n",
              "      <th class=\"blank level0\" >&nbsp;</th>\n",
              "      <th id=\"T_62d10_level0_col0\" class=\"col_heading level0 col0\" >windy</th>\n",
              "      <th id=\"T_62d10_level0_col1\" class=\"col_heading level0 col1\" >play</th>\n",
              "    </tr>\n",
              "  </thead>\n",
              "  <tbody>\n",
              "    <tr>\n",
              "      <th id=\"T_62d10_level0_row0\" class=\"row_heading level0 row0\" >1</th>\n",
              "      <td id=\"T_62d10_row0_col0\" class=\"data row0 col0\" >True</td>\n",
              "      <td id=\"T_62d10_row0_col1\" class=\"data row0 col1\" >no</td>\n",
              "    </tr>\n",
              "    <tr>\n",
              "      <th id=\"T_62d10_level0_row1\" class=\"row_heading level0 row1\" >5</th>\n",
              "      <td id=\"T_62d10_row1_col0\" class=\"data row1 col0\" >True</td>\n",
              "      <td id=\"T_62d10_row1_col1\" class=\"data row1 col1\" >no</td>\n",
              "    </tr>\n",
              "    <tr>\n",
              "      <th id=\"T_62d10_level0_row2\" class=\"row_heading level0 row2\" >6</th>\n",
              "      <td id=\"T_62d10_row2_col0\" class=\"data row2 col0\" >True</td>\n",
              "      <td id=\"T_62d10_row2_col1\" class=\"data row2 col1\" >yes</td>\n",
              "    </tr>\n",
              "    <tr>\n",
              "      <th id=\"T_62d10_level0_row3\" class=\"row_heading level0 row3\" >10</th>\n",
              "      <td id=\"T_62d10_row3_col0\" class=\"data row3 col0\" >True</td>\n",
              "      <td id=\"T_62d10_row3_col1\" class=\"data row3 col1\" >yes</td>\n",
              "    </tr>\n",
              "    <tr>\n",
              "      <th id=\"T_62d10_level0_row4\" class=\"row_heading level0 row4\" >11</th>\n",
              "      <td id=\"T_62d10_row4_col0\" class=\"data row4 col0\" >True</td>\n",
              "      <td id=\"T_62d10_row4_col1\" class=\"data row4 col1\" >yes</td>\n",
              "    </tr>\n",
              "    <tr>\n",
              "      <th id=\"T_62d10_level0_row5\" class=\"row_heading level0 row5\" >13</th>\n",
              "      <td id=\"T_62d10_row5_col0\" class=\"data row5 col0\" >True</td>\n",
              "      <td id=\"T_62d10_row5_col1\" class=\"data row5 col1\" >no</td>\n",
              "    </tr>\n",
              "  </tbody>\n",
              "</table>\n"
            ]
          },
          "metadata": {}
        },
        {
          "output_type": "stream",
          "name": "stdout",
          "text": [
            "Entropy of windy - True = 1.0\n",
            "Information Gain for windy = 0.048\n"
          ]
        }
      ]
    },
    {
      "cell_type": "code",
      "source": [
        "sunny = data[data['outlook'] == 'sunny']\n",
        "sunny.style.applymap(highlight)\\\n",
        "    .set_properties(subset=data.columns, **{'width': '100px'})\\\n",
        "    .set_table_styles([{'selector': 'th', 'props': [('background-color', 'lightgray'), ('border', '1px solid gray'),\n",
        "                                                    ('font-weight', 'bold')]},\n",
        "     {'selector': 'tr:hover', 'props': [('background-color', 'white'), ('border', '1.5px solid black')]}])"
      ],
      "metadata": {
        "colab": {
          "base_uri": "https://localhost:8080/",
          "height": 212
        },
        "id": "cXBhkqH2i9oP",
        "outputId": "17801062-9704-48f2-ed6f-21c9ff3573fa"
      },
      "execution_count": 10,
      "outputs": [
        {
          "output_type": "execute_result",
          "data": {
            "text/plain": [
              "<pandas.io.formats.style.Styler at 0x79116949cfa0>"
            ],
            "text/html": [
              "<style type=\"text/css\">\n",
              "#T_6fa15 th {\n",
              "  background-color: lightgray;\n",
              "  border: 1px solid gray;\n",
              "  font-weight: bold;\n",
              "}\n",
              "#T_6fa15 tr:hover {\n",
              "  background-color: white;\n",
              "  border: 1.5px solid black;\n",
              "}\n",
              "#T_6fa15_row0_col0, #T_6fa15_row0_col1, #T_6fa15_row0_col2, #T_6fa15_row0_col3, #T_6fa15_row1_col0, #T_6fa15_row1_col1, #T_6fa15_row1_col2, #T_6fa15_row1_col3, #T_6fa15_row2_col0, #T_6fa15_row2_col1, #T_6fa15_row2_col2, #T_6fa15_row2_col3, #T_6fa15_row3_col0, #T_6fa15_row3_col1, #T_6fa15_row3_col2, #T_6fa15_row3_col3, #T_6fa15_row4_col0, #T_6fa15_row4_col1, #T_6fa15_row4_col2, #T_6fa15_row4_col3 {\n",
              "  width: 100px;\n",
              "}\n",
              "#T_6fa15_row0_col4, #T_6fa15_row1_col4, #T_6fa15_row2_col4 {\n",
              "  background-color: pink;\n",
              "  width: 100px;\n",
              "}\n",
              "#T_6fa15_row3_col4, #T_6fa15_row4_col4 {\n",
              "  background-color: lightgreen;\n",
              "  width: 100px;\n",
              "}\n",
              "</style>\n",
              "<table id=\"T_6fa15\" class=\"dataframe\">\n",
              "  <thead>\n",
              "    <tr>\n",
              "      <th class=\"blank level0\" >&nbsp;</th>\n",
              "      <th id=\"T_6fa15_level0_col0\" class=\"col_heading level0 col0\" >outlook</th>\n",
              "      <th id=\"T_6fa15_level0_col1\" class=\"col_heading level0 col1\" >temp</th>\n",
              "      <th id=\"T_6fa15_level0_col2\" class=\"col_heading level0 col2\" >humidity</th>\n",
              "      <th id=\"T_6fa15_level0_col3\" class=\"col_heading level0 col3\" >windy</th>\n",
              "      <th id=\"T_6fa15_level0_col4\" class=\"col_heading level0 col4\" >play</th>\n",
              "    </tr>\n",
              "  </thead>\n",
              "  <tbody>\n",
              "    <tr>\n",
              "      <th id=\"T_6fa15_level0_row0\" class=\"row_heading level0 row0\" >0</th>\n",
              "      <td id=\"T_6fa15_row0_col0\" class=\"data row0 col0\" >sunny</td>\n",
              "      <td id=\"T_6fa15_row0_col1\" class=\"data row0 col1\" >hot</td>\n",
              "      <td id=\"T_6fa15_row0_col2\" class=\"data row0 col2\" >high</td>\n",
              "      <td id=\"T_6fa15_row0_col3\" class=\"data row0 col3\" >False</td>\n",
              "      <td id=\"T_6fa15_row0_col4\" class=\"data row0 col4\" >no</td>\n",
              "    </tr>\n",
              "    <tr>\n",
              "      <th id=\"T_6fa15_level0_row1\" class=\"row_heading level0 row1\" >1</th>\n",
              "      <td id=\"T_6fa15_row1_col0\" class=\"data row1 col0\" >sunny</td>\n",
              "      <td id=\"T_6fa15_row1_col1\" class=\"data row1 col1\" >hot</td>\n",
              "      <td id=\"T_6fa15_row1_col2\" class=\"data row1 col2\" >high</td>\n",
              "      <td id=\"T_6fa15_row1_col3\" class=\"data row1 col3\" >True</td>\n",
              "      <td id=\"T_6fa15_row1_col4\" class=\"data row1 col4\" >no</td>\n",
              "    </tr>\n",
              "    <tr>\n",
              "      <th id=\"T_6fa15_level0_row2\" class=\"row_heading level0 row2\" >7</th>\n",
              "      <td id=\"T_6fa15_row2_col0\" class=\"data row2 col0\" >sunny</td>\n",
              "      <td id=\"T_6fa15_row2_col1\" class=\"data row2 col1\" >mild</td>\n",
              "      <td id=\"T_6fa15_row2_col2\" class=\"data row2 col2\" >high</td>\n",
              "      <td id=\"T_6fa15_row2_col3\" class=\"data row2 col3\" >False</td>\n",
              "      <td id=\"T_6fa15_row2_col4\" class=\"data row2 col4\" >no</td>\n",
              "    </tr>\n",
              "    <tr>\n",
              "      <th id=\"T_6fa15_level0_row3\" class=\"row_heading level0 row3\" >8</th>\n",
              "      <td id=\"T_6fa15_row3_col0\" class=\"data row3 col0\" >sunny</td>\n",
              "      <td id=\"T_6fa15_row3_col1\" class=\"data row3 col1\" >cool</td>\n",
              "      <td id=\"T_6fa15_row3_col2\" class=\"data row3 col2\" >normal</td>\n",
              "      <td id=\"T_6fa15_row3_col3\" class=\"data row3 col3\" >False</td>\n",
              "      <td id=\"T_6fa15_row3_col4\" class=\"data row3 col4\" >yes</td>\n",
              "    </tr>\n",
              "    <tr>\n",
              "      <th id=\"T_6fa15_level0_row4\" class=\"row_heading level0 row4\" >10</th>\n",
              "      <td id=\"T_6fa15_row4_col0\" class=\"data row4 col0\" >sunny</td>\n",
              "      <td id=\"T_6fa15_row4_col1\" class=\"data row4 col1\" >mild</td>\n",
              "      <td id=\"T_6fa15_row4_col2\" class=\"data row4 col2\" >normal</td>\n",
              "      <td id=\"T_6fa15_row4_col3\" class=\"data row4 col3\" >True</td>\n",
              "      <td id=\"T_6fa15_row4_col4\" class=\"data row4 col4\" >yes</td>\n",
              "    </tr>\n",
              "  </tbody>\n",
              "</table>\n"
            ]
          },
          "metadata": {},
          "execution_count": 10
        }
      ]
    },
    {
      "cell_type": "code",
      "source": [
        "print(f'Entropy of the Sunny dataset: {find_entropy(sunny.play)}')"
      ],
      "metadata": {
        "colab": {
          "base_uri": "https://localhost:8080/"
        },
        "id": "TJSjT9D3j5Hf",
        "outputId": "f71bacac-f033-41fa-e0a3-8ff52680361f"
      },
      "execution_count": 11,
      "outputs": [
        {
          "output_type": "stream",
          "name": "stdout",
          "text": [
            "Entropy of the Sunny dataset: 0.971\n"
          ]
        }
      ]
    },
    {
      "cell_type": "code",
      "source": [
        "#Calculating the Information gain for each feature"
      ],
      "metadata": {
        "id": "nVhx4S7LkBMu"
      },
      "execution_count": null,
      "outputs": []
    },
    {
      "cell_type": "code",
      "source": [
        "#temp\n",
        "entropy_and_infogain(sunny, 'temp')"
      ],
      "metadata": {
        "colab": {
          "base_uri": "https://localhost:8080/",
          "height": 348
        },
        "id": "vVCqDoqakJpO",
        "outputId": "9483ab15-b698-4ba0-ca9d-92945190431b"
      },
      "execution_count": 12,
      "outputs": [
        {
          "output_type": "display_data",
          "data": {
            "text/plain": [
              "<pandas.io.formats.style.Styler at 0x79116949fe80>"
            ],
            "text/html": [
              "<style type=\"text/css\">\n",
              "#T_2bafd th {\n",
              "  background-color: lightgray;\n",
              "  border: 1px solid gray;\n",
              "  font-weight: bold;\n",
              "}\n",
              "#T_2bafd td {\n",
              "  border: 1px solid gray;\n",
              "}\n",
              "#T_2bafd tr:hover {\n",
              "  background-color: white;\n",
              "  border: 1.5px solid black;\n",
              "}\n",
              "#T_2bafd_row0_col0, #T_2bafd_row1_col0 {\n",
              "  width: 80px;\n",
              "}\n",
              "#T_2bafd_row0_col1, #T_2bafd_row1_col1 {\n",
              "  background-color: pink;\n",
              "  width: 80px;\n",
              "}\n",
              "</style>\n",
              "<table id=\"T_2bafd\" class=\"dataframe\">\n",
              "  <thead>\n",
              "    <tr>\n",
              "      <th class=\"blank level0\" >&nbsp;</th>\n",
              "      <th id=\"T_2bafd_level0_col0\" class=\"col_heading level0 col0\" >temp</th>\n",
              "      <th id=\"T_2bafd_level0_col1\" class=\"col_heading level0 col1\" >play</th>\n",
              "    </tr>\n",
              "  </thead>\n",
              "  <tbody>\n",
              "    <tr>\n",
              "      <th id=\"T_2bafd_level0_row0\" class=\"row_heading level0 row0\" >0</th>\n",
              "      <td id=\"T_2bafd_row0_col0\" class=\"data row0 col0\" >hot</td>\n",
              "      <td id=\"T_2bafd_row0_col1\" class=\"data row0 col1\" >no</td>\n",
              "    </tr>\n",
              "    <tr>\n",
              "      <th id=\"T_2bafd_level0_row1\" class=\"row_heading level0 row1\" >1</th>\n",
              "      <td id=\"T_2bafd_row1_col0\" class=\"data row1 col0\" >hot</td>\n",
              "      <td id=\"T_2bafd_row1_col1\" class=\"data row1 col1\" >no</td>\n",
              "    </tr>\n",
              "  </tbody>\n",
              "</table>\n"
            ]
          },
          "metadata": {}
        },
        {
          "output_type": "stream",
          "name": "stdout",
          "text": [
            "Entropy of temp - hot = 0.0\n"
          ]
        },
        {
          "output_type": "display_data",
          "data": {
            "text/plain": [
              "<pandas.io.formats.style.Styler at 0x79116949ff10>"
            ],
            "text/html": [
              "<style type=\"text/css\">\n",
              "#T_17690 th {\n",
              "  background-color: lightgray;\n",
              "  border: 1px solid gray;\n",
              "  font-weight: bold;\n",
              "}\n",
              "#T_17690 td {\n",
              "  border: 1px solid gray;\n",
              "}\n",
              "#T_17690 tr:hover {\n",
              "  background-color: white;\n",
              "  border: 1.5px solid black;\n",
              "}\n",
              "#T_17690_row0_col0, #T_17690_row1_col0 {\n",
              "  width: 80px;\n",
              "}\n",
              "#T_17690_row0_col1 {\n",
              "  background-color: pink;\n",
              "  width: 80px;\n",
              "}\n",
              "#T_17690_row1_col1 {\n",
              "  background-color: lightgreen;\n",
              "  width: 80px;\n",
              "}\n",
              "</style>\n",
              "<table id=\"T_17690\" class=\"dataframe\">\n",
              "  <thead>\n",
              "    <tr>\n",
              "      <th class=\"blank level0\" >&nbsp;</th>\n",
              "      <th id=\"T_17690_level0_col0\" class=\"col_heading level0 col0\" >temp</th>\n",
              "      <th id=\"T_17690_level0_col1\" class=\"col_heading level0 col1\" >play</th>\n",
              "    </tr>\n",
              "  </thead>\n",
              "  <tbody>\n",
              "    <tr>\n",
              "      <th id=\"T_17690_level0_row0\" class=\"row_heading level0 row0\" >7</th>\n",
              "      <td id=\"T_17690_row0_col0\" class=\"data row0 col0\" >mild</td>\n",
              "      <td id=\"T_17690_row0_col1\" class=\"data row0 col1\" >no</td>\n",
              "    </tr>\n",
              "    <tr>\n",
              "      <th id=\"T_17690_level0_row1\" class=\"row_heading level0 row1\" >10</th>\n",
              "      <td id=\"T_17690_row1_col0\" class=\"data row1 col0\" >mild</td>\n",
              "      <td id=\"T_17690_row1_col1\" class=\"data row1 col1\" >yes</td>\n",
              "    </tr>\n",
              "  </tbody>\n",
              "</table>\n"
            ]
          },
          "metadata": {}
        },
        {
          "output_type": "stream",
          "name": "stdout",
          "text": [
            "Entropy of temp - mild = 1.0\n"
          ]
        },
        {
          "output_type": "display_data",
          "data": {
            "text/plain": [
              "<pandas.io.formats.style.Styler at 0x79116949fe50>"
            ],
            "text/html": [
              "<style type=\"text/css\">\n",
              "#T_e6349 th {\n",
              "  background-color: lightgray;\n",
              "  border: 1px solid gray;\n",
              "  font-weight: bold;\n",
              "}\n",
              "#T_e6349 td {\n",
              "  border: 1px solid gray;\n",
              "}\n",
              "#T_e6349 tr:hover {\n",
              "  background-color: white;\n",
              "  border: 1.5px solid black;\n",
              "}\n",
              "#T_e6349_row0_col0 {\n",
              "  width: 80px;\n",
              "}\n",
              "#T_e6349_row0_col1 {\n",
              "  background-color: lightgreen;\n",
              "  width: 80px;\n",
              "}\n",
              "</style>\n",
              "<table id=\"T_e6349\" class=\"dataframe\">\n",
              "  <thead>\n",
              "    <tr>\n",
              "      <th class=\"blank level0\" >&nbsp;</th>\n",
              "      <th id=\"T_e6349_level0_col0\" class=\"col_heading level0 col0\" >temp</th>\n",
              "      <th id=\"T_e6349_level0_col1\" class=\"col_heading level0 col1\" >play</th>\n",
              "    </tr>\n",
              "  </thead>\n",
              "  <tbody>\n",
              "    <tr>\n",
              "      <th id=\"T_e6349_level0_row0\" class=\"row_heading level0 row0\" >8</th>\n",
              "      <td id=\"T_e6349_row0_col0\" class=\"data row0 col0\" >cool</td>\n",
              "      <td id=\"T_e6349_row0_col1\" class=\"data row0 col1\" >yes</td>\n",
              "    </tr>\n",
              "  </tbody>\n",
              "</table>\n"
            ]
          },
          "metadata": {}
        },
        {
          "output_type": "stream",
          "name": "stdout",
          "text": [
            "Entropy of temp - cool = 0.0\n",
            "Information Gain for temp = 0.571\n"
          ]
        }
      ]
    },
    {
      "cell_type": "code",
      "source": [
        "#Humidity\n",
        "entropy_and_infogain(sunny, 'humidity')"
      ],
      "metadata": {
        "colab": {
          "base_uri": "https://localhost:8080/",
          "height": 298
        },
        "id": "EYmPabdckRIu",
        "outputId": "c636f21e-5f9c-41df-aa97-3c01aa2433a8"
      },
      "execution_count": 13,
      "outputs": [
        {
          "output_type": "display_data",
          "data": {
            "text/plain": [
              "<pandas.io.formats.style.Styler at 0x79116949fe80>"
            ],
            "text/html": [
              "<style type=\"text/css\">\n",
              "#T_8e7fd th {\n",
              "  background-color: lightgray;\n",
              "  border: 1px solid gray;\n",
              "  font-weight: bold;\n",
              "}\n",
              "#T_8e7fd td {\n",
              "  border: 1px solid gray;\n",
              "}\n",
              "#T_8e7fd tr:hover {\n",
              "  background-color: white;\n",
              "  border: 1.5px solid black;\n",
              "}\n",
              "#T_8e7fd_row0_col0, #T_8e7fd_row1_col0, #T_8e7fd_row2_col0 {\n",
              "  width: 80px;\n",
              "}\n",
              "#T_8e7fd_row0_col1, #T_8e7fd_row1_col1, #T_8e7fd_row2_col1 {\n",
              "  background-color: pink;\n",
              "  width: 80px;\n",
              "}\n",
              "</style>\n",
              "<table id=\"T_8e7fd\" class=\"dataframe\">\n",
              "  <thead>\n",
              "    <tr>\n",
              "      <th class=\"blank level0\" >&nbsp;</th>\n",
              "      <th id=\"T_8e7fd_level0_col0\" class=\"col_heading level0 col0\" >humidity</th>\n",
              "      <th id=\"T_8e7fd_level0_col1\" class=\"col_heading level0 col1\" >play</th>\n",
              "    </tr>\n",
              "  </thead>\n",
              "  <tbody>\n",
              "    <tr>\n",
              "      <th id=\"T_8e7fd_level0_row0\" class=\"row_heading level0 row0\" >0</th>\n",
              "      <td id=\"T_8e7fd_row0_col0\" class=\"data row0 col0\" >high</td>\n",
              "      <td id=\"T_8e7fd_row0_col1\" class=\"data row0 col1\" >no</td>\n",
              "    </tr>\n",
              "    <tr>\n",
              "      <th id=\"T_8e7fd_level0_row1\" class=\"row_heading level0 row1\" >1</th>\n",
              "      <td id=\"T_8e7fd_row1_col0\" class=\"data row1 col0\" >high</td>\n",
              "      <td id=\"T_8e7fd_row1_col1\" class=\"data row1 col1\" >no</td>\n",
              "    </tr>\n",
              "    <tr>\n",
              "      <th id=\"T_8e7fd_level0_row2\" class=\"row_heading level0 row2\" >7</th>\n",
              "      <td id=\"T_8e7fd_row2_col0\" class=\"data row2 col0\" >high</td>\n",
              "      <td id=\"T_8e7fd_row2_col1\" class=\"data row2 col1\" >no</td>\n",
              "    </tr>\n",
              "  </tbody>\n",
              "</table>\n"
            ]
          },
          "metadata": {}
        },
        {
          "output_type": "stream",
          "name": "stdout",
          "text": [
            "Entropy of humidity - high = 0.0\n"
          ]
        },
        {
          "output_type": "display_data",
          "data": {
            "text/plain": [
              "<pandas.io.formats.style.Styler at 0x79116949fe80>"
            ],
            "text/html": [
              "<style type=\"text/css\">\n",
              "#T_66b44 th {\n",
              "  background-color: lightgray;\n",
              "  border: 1px solid gray;\n",
              "  font-weight: bold;\n",
              "}\n",
              "#T_66b44 td {\n",
              "  border: 1px solid gray;\n",
              "}\n",
              "#T_66b44 tr:hover {\n",
              "  background-color: white;\n",
              "  border: 1.5px solid black;\n",
              "}\n",
              "#T_66b44_row0_col0, #T_66b44_row1_col0 {\n",
              "  width: 80px;\n",
              "}\n",
              "#T_66b44_row0_col1, #T_66b44_row1_col1 {\n",
              "  background-color: lightgreen;\n",
              "  width: 80px;\n",
              "}\n",
              "</style>\n",
              "<table id=\"T_66b44\" class=\"dataframe\">\n",
              "  <thead>\n",
              "    <tr>\n",
              "      <th class=\"blank level0\" >&nbsp;</th>\n",
              "      <th id=\"T_66b44_level0_col0\" class=\"col_heading level0 col0\" >humidity</th>\n",
              "      <th id=\"T_66b44_level0_col1\" class=\"col_heading level0 col1\" >play</th>\n",
              "    </tr>\n",
              "  </thead>\n",
              "  <tbody>\n",
              "    <tr>\n",
              "      <th id=\"T_66b44_level0_row0\" class=\"row_heading level0 row0\" >8</th>\n",
              "      <td id=\"T_66b44_row0_col0\" class=\"data row0 col0\" >normal</td>\n",
              "      <td id=\"T_66b44_row0_col1\" class=\"data row0 col1\" >yes</td>\n",
              "    </tr>\n",
              "    <tr>\n",
              "      <th id=\"T_66b44_level0_row1\" class=\"row_heading level0 row1\" >10</th>\n",
              "      <td id=\"T_66b44_row1_col0\" class=\"data row1 col0\" >normal</td>\n",
              "      <td id=\"T_66b44_row1_col1\" class=\"data row1 col1\" >yes</td>\n",
              "    </tr>\n",
              "  </tbody>\n",
              "</table>\n"
            ]
          },
          "metadata": {}
        },
        {
          "output_type": "stream",
          "name": "stdout",
          "text": [
            "Entropy of humidity - normal = 0.0\n",
            "Information Gain for humidity = 0.971\n"
          ]
        }
      ]
    },
    {
      "cell_type": "code",
      "source": [
        "#Windy\n",
        "entropy_and_infogain(sunny, 'windy')"
      ],
      "metadata": {
        "colab": {
          "base_uri": "https://localhost:8080/",
          "height": 298
        },
        "id": "ATp7B-UwkVjO",
        "outputId": "f8e6e363-6616-4013-d65d-0445dd35077c"
      },
      "execution_count": 14,
      "outputs": [
        {
          "output_type": "display_data",
          "data": {
            "text/plain": [
              "<pandas.io.formats.style.Styler at 0x79116949df90>"
            ],
            "text/html": [
              "<style type=\"text/css\">\n",
              "#T_000bc th {\n",
              "  background-color: lightgray;\n",
              "  border: 1px solid gray;\n",
              "  font-weight: bold;\n",
              "}\n",
              "#T_000bc td {\n",
              "  border: 1px solid gray;\n",
              "}\n",
              "#T_000bc tr:hover {\n",
              "  background-color: white;\n",
              "  border: 1.5px solid black;\n",
              "}\n",
              "#T_000bc_row0_col0, #T_000bc_row1_col0, #T_000bc_row2_col0 {\n",
              "  width: 80px;\n",
              "}\n",
              "#T_000bc_row0_col1, #T_000bc_row1_col1 {\n",
              "  background-color: pink;\n",
              "  width: 80px;\n",
              "}\n",
              "#T_000bc_row2_col1 {\n",
              "  background-color: lightgreen;\n",
              "  width: 80px;\n",
              "}\n",
              "</style>\n",
              "<table id=\"T_000bc\" class=\"dataframe\">\n",
              "  <thead>\n",
              "    <tr>\n",
              "      <th class=\"blank level0\" >&nbsp;</th>\n",
              "      <th id=\"T_000bc_level0_col0\" class=\"col_heading level0 col0\" >windy</th>\n",
              "      <th id=\"T_000bc_level0_col1\" class=\"col_heading level0 col1\" >play</th>\n",
              "    </tr>\n",
              "  </thead>\n",
              "  <tbody>\n",
              "    <tr>\n",
              "      <th id=\"T_000bc_level0_row0\" class=\"row_heading level0 row0\" >0</th>\n",
              "      <td id=\"T_000bc_row0_col0\" class=\"data row0 col0\" >False</td>\n",
              "      <td id=\"T_000bc_row0_col1\" class=\"data row0 col1\" >no</td>\n",
              "    </tr>\n",
              "    <tr>\n",
              "      <th id=\"T_000bc_level0_row1\" class=\"row_heading level0 row1\" >7</th>\n",
              "      <td id=\"T_000bc_row1_col0\" class=\"data row1 col0\" >False</td>\n",
              "      <td id=\"T_000bc_row1_col1\" class=\"data row1 col1\" >no</td>\n",
              "    </tr>\n",
              "    <tr>\n",
              "      <th id=\"T_000bc_level0_row2\" class=\"row_heading level0 row2\" >8</th>\n",
              "      <td id=\"T_000bc_row2_col0\" class=\"data row2 col0\" >False</td>\n",
              "      <td id=\"T_000bc_row2_col1\" class=\"data row2 col1\" >yes</td>\n",
              "    </tr>\n",
              "  </tbody>\n",
              "</table>\n"
            ]
          },
          "metadata": {}
        },
        {
          "output_type": "stream",
          "name": "stdout",
          "text": [
            "Entropy of windy - False = 0.918\n"
          ]
        },
        {
          "output_type": "display_data",
          "data": {
            "text/plain": [
              "<pandas.io.formats.style.Styler at 0x79116949f6a0>"
            ],
            "text/html": [
              "<style type=\"text/css\">\n",
              "#T_c2bc5 th {\n",
              "  background-color: lightgray;\n",
              "  border: 1px solid gray;\n",
              "  font-weight: bold;\n",
              "}\n",
              "#T_c2bc5 td {\n",
              "  border: 1px solid gray;\n",
              "}\n",
              "#T_c2bc5 tr:hover {\n",
              "  background-color: white;\n",
              "  border: 1.5px solid black;\n",
              "}\n",
              "#T_c2bc5_row0_col0, #T_c2bc5_row1_col0 {\n",
              "  width: 80px;\n",
              "}\n",
              "#T_c2bc5_row0_col1 {\n",
              "  background-color: pink;\n",
              "  width: 80px;\n",
              "}\n",
              "#T_c2bc5_row1_col1 {\n",
              "  background-color: lightgreen;\n",
              "  width: 80px;\n",
              "}\n",
              "</style>\n",
              "<table id=\"T_c2bc5\" class=\"dataframe\">\n",
              "  <thead>\n",
              "    <tr>\n",
              "      <th class=\"blank level0\" >&nbsp;</th>\n",
              "      <th id=\"T_c2bc5_level0_col0\" class=\"col_heading level0 col0\" >windy</th>\n",
              "      <th id=\"T_c2bc5_level0_col1\" class=\"col_heading level0 col1\" >play</th>\n",
              "    </tr>\n",
              "  </thead>\n",
              "  <tbody>\n",
              "    <tr>\n",
              "      <th id=\"T_c2bc5_level0_row0\" class=\"row_heading level0 row0\" >1</th>\n",
              "      <td id=\"T_c2bc5_row0_col0\" class=\"data row0 col0\" >True</td>\n",
              "      <td id=\"T_c2bc5_row0_col1\" class=\"data row0 col1\" >no</td>\n",
              "    </tr>\n",
              "    <tr>\n",
              "      <th id=\"T_c2bc5_level0_row1\" class=\"row_heading level0 row1\" >10</th>\n",
              "      <td id=\"T_c2bc5_row1_col0\" class=\"data row1 col0\" >True</td>\n",
              "      <td id=\"T_c2bc5_row1_col1\" class=\"data row1 col1\" >yes</td>\n",
              "    </tr>\n",
              "  </tbody>\n",
              "</table>\n"
            ]
          },
          "metadata": {}
        },
        {
          "output_type": "stream",
          "name": "stdout",
          "text": [
            "Entropy of windy - True = 1.0\n",
            "Information Gain for windy = 0.02\n"
          ]
        }
      ]
    },
    {
      "cell_type": "code",
      "source": [
        "#Outlook - Rainy\n",
        "rainy = data[data['outlook'] == 'rainy']\n",
        "rainy.style.applymap(highlight)\\\n",
        "    .set_properties(subset=data.columns, **{'width': '100px'})\\\n",
        "    .set_table_styles([{'selector': 'th', 'props': [('background-color', 'lightgray'), ('border', '1px solid gray'),\n",
        "                                                    ('font-weight', 'bold')]},\n",
        "     {'selector': 'tr:hover', 'props': [('background-color', 'white'), ('border', '1.5px solid black')]}])"
      ],
      "metadata": {
        "colab": {
          "base_uri": "https://localhost:8080/",
          "height": 212
        },
        "id": "q6HdcQCvlCem",
        "outputId": "ded3b7b4-7506-4415-897d-a77529802a19"
      },
      "execution_count": 15,
      "outputs": [
        {
          "output_type": "execute_result",
          "data": {
            "text/plain": [
              "<pandas.io.formats.style.Styler at 0x79116949fe80>"
            ],
            "text/html": [
              "<style type=\"text/css\">\n",
              "#T_0372e th {\n",
              "  background-color: lightgray;\n",
              "  border: 1px solid gray;\n",
              "  font-weight: bold;\n",
              "}\n",
              "#T_0372e tr:hover {\n",
              "  background-color: white;\n",
              "  border: 1.5px solid black;\n",
              "}\n",
              "#T_0372e_row0_col0, #T_0372e_row0_col1, #T_0372e_row0_col2, #T_0372e_row0_col3, #T_0372e_row1_col0, #T_0372e_row1_col1, #T_0372e_row1_col2, #T_0372e_row1_col3, #T_0372e_row2_col0, #T_0372e_row2_col1, #T_0372e_row2_col2, #T_0372e_row2_col3, #T_0372e_row3_col0, #T_0372e_row3_col1, #T_0372e_row3_col2, #T_0372e_row3_col3, #T_0372e_row4_col0, #T_0372e_row4_col1, #T_0372e_row4_col2, #T_0372e_row4_col3 {\n",
              "  width: 100px;\n",
              "}\n",
              "#T_0372e_row0_col4, #T_0372e_row1_col4, #T_0372e_row3_col4 {\n",
              "  background-color: lightgreen;\n",
              "  width: 100px;\n",
              "}\n",
              "#T_0372e_row2_col4, #T_0372e_row4_col4 {\n",
              "  background-color: pink;\n",
              "  width: 100px;\n",
              "}\n",
              "</style>\n",
              "<table id=\"T_0372e\" class=\"dataframe\">\n",
              "  <thead>\n",
              "    <tr>\n",
              "      <th class=\"blank level0\" >&nbsp;</th>\n",
              "      <th id=\"T_0372e_level0_col0\" class=\"col_heading level0 col0\" >outlook</th>\n",
              "      <th id=\"T_0372e_level0_col1\" class=\"col_heading level0 col1\" >temp</th>\n",
              "      <th id=\"T_0372e_level0_col2\" class=\"col_heading level0 col2\" >humidity</th>\n",
              "      <th id=\"T_0372e_level0_col3\" class=\"col_heading level0 col3\" >windy</th>\n",
              "      <th id=\"T_0372e_level0_col4\" class=\"col_heading level0 col4\" >play</th>\n",
              "    </tr>\n",
              "  </thead>\n",
              "  <tbody>\n",
              "    <tr>\n",
              "      <th id=\"T_0372e_level0_row0\" class=\"row_heading level0 row0\" >3</th>\n",
              "      <td id=\"T_0372e_row0_col0\" class=\"data row0 col0\" >rainy</td>\n",
              "      <td id=\"T_0372e_row0_col1\" class=\"data row0 col1\" >mild</td>\n",
              "      <td id=\"T_0372e_row0_col2\" class=\"data row0 col2\" >high</td>\n",
              "      <td id=\"T_0372e_row0_col3\" class=\"data row0 col3\" >False</td>\n",
              "      <td id=\"T_0372e_row0_col4\" class=\"data row0 col4\" >yes</td>\n",
              "    </tr>\n",
              "    <tr>\n",
              "      <th id=\"T_0372e_level0_row1\" class=\"row_heading level0 row1\" >4</th>\n",
              "      <td id=\"T_0372e_row1_col0\" class=\"data row1 col0\" >rainy</td>\n",
              "      <td id=\"T_0372e_row1_col1\" class=\"data row1 col1\" >cool</td>\n",
              "      <td id=\"T_0372e_row1_col2\" class=\"data row1 col2\" >normal</td>\n",
              "      <td id=\"T_0372e_row1_col3\" class=\"data row1 col3\" >False</td>\n",
              "      <td id=\"T_0372e_row1_col4\" class=\"data row1 col4\" >yes</td>\n",
              "    </tr>\n",
              "    <tr>\n",
              "      <th id=\"T_0372e_level0_row2\" class=\"row_heading level0 row2\" >5</th>\n",
              "      <td id=\"T_0372e_row2_col0\" class=\"data row2 col0\" >rainy</td>\n",
              "      <td id=\"T_0372e_row2_col1\" class=\"data row2 col1\" >cool</td>\n",
              "      <td id=\"T_0372e_row2_col2\" class=\"data row2 col2\" >normal</td>\n",
              "      <td id=\"T_0372e_row2_col3\" class=\"data row2 col3\" >True</td>\n",
              "      <td id=\"T_0372e_row2_col4\" class=\"data row2 col4\" >no</td>\n",
              "    </tr>\n",
              "    <tr>\n",
              "      <th id=\"T_0372e_level0_row3\" class=\"row_heading level0 row3\" >9</th>\n",
              "      <td id=\"T_0372e_row3_col0\" class=\"data row3 col0\" >rainy</td>\n",
              "      <td id=\"T_0372e_row3_col1\" class=\"data row3 col1\" >mild</td>\n",
              "      <td id=\"T_0372e_row3_col2\" class=\"data row3 col2\" >normal</td>\n",
              "      <td id=\"T_0372e_row3_col3\" class=\"data row3 col3\" >False</td>\n",
              "      <td id=\"T_0372e_row3_col4\" class=\"data row3 col4\" >yes</td>\n",
              "    </tr>\n",
              "    <tr>\n",
              "      <th id=\"T_0372e_level0_row4\" class=\"row_heading level0 row4\" >13</th>\n",
              "      <td id=\"T_0372e_row4_col0\" class=\"data row4 col0\" >rainy</td>\n",
              "      <td id=\"T_0372e_row4_col1\" class=\"data row4 col1\" >mild</td>\n",
              "      <td id=\"T_0372e_row4_col2\" class=\"data row4 col2\" >high</td>\n",
              "      <td id=\"T_0372e_row4_col3\" class=\"data row4 col3\" >True</td>\n",
              "      <td id=\"T_0372e_row4_col4\" class=\"data row4 col4\" >no</td>\n",
              "    </tr>\n",
              "  </tbody>\n",
              "</table>\n"
            ]
          },
          "metadata": {},
          "execution_count": 15
        }
      ]
    },
    {
      "cell_type": "code",
      "source": [
        "print(f'Entropy of the Rainy dataset: {find_entropy(rainy.play)}')"
      ],
      "metadata": {
        "colab": {
          "base_uri": "https://localhost:8080/"
        },
        "id": "thd7ytNZlU6m",
        "outputId": "71ae7f61-8cb7-4d42-d866-ab5e4cc76b3d"
      },
      "execution_count": 16,
      "outputs": [
        {
          "output_type": "stream",
          "name": "stdout",
          "text": [
            "Entropy of the Rainy dataset: 0.971\n"
          ]
        }
      ]
    },
    {
      "cell_type": "code",
      "source": [
        "#temp\n",
        "entropy_and_infogain(rainy, 'temp')"
      ],
      "metadata": {
        "colab": {
          "base_uri": "https://localhost:8080/",
          "height": 298
        },
        "id": "iK4RN3Eplend",
        "outputId": "0da3c687-ad73-4baf-88b8-f909b21d0bc6"
      },
      "execution_count": 17,
      "outputs": [
        {
          "output_type": "display_data",
          "data": {
            "text/plain": [
              "<pandas.io.formats.style.Styler at 0x7911694f9150>"
            ],
            "text/html": [
              "<style type=\"text/css\">\n",
              "#T_f37bf th {\n",
              "  background-color: lightgray;\n",
              "  border: 1px solid gray;\n",
              "  font-weight: bold;\n",
              "}\n",
              "#T_f37bf td {\n",
              "  border: 1px solid gray;\n",
              "}\n",
              "#T_f37bf tr:hover {\n",
              "  background-color: white;\n",
              "  border: 1.5px solid black;\n",
              "}\n",
              "#T_f37bf_row0_col0, #T_f37bf_row1_col0, #T_f37bf_row2_col0 {\n",
              "  width: 80px;\n",
              "}\n",
              "#T_f37bf_row0_col1, #T_f37bf_row1_col1 {\n",
              "  background-color: lightgreen;\n",
              "  width: 80px;\n",
              "}\n",
              "#T_f37bf_row2_col1 {\n",
              "  background-color: pink;\n",
              "  width: 80px;\n",
              "}\n",
              "</style>\n",
              "<table id=\"T_f37bf\" class=\"dataframe\">\n",
              "  <thead>\n",
              "    <tr>\n",
              "      <th class=\"blank level0\" >&nbsp;</th>\n",
              "      <th id=\"T_f37bf_level0_col0\" class=\"col_heading level0 col0\" >temp</th>\n",
              "      <th id=\"T_f37bf_level0_col1\" class=\"col_heading level0 col1\" >play</th>\n",
              "    </tr>\n",
              "  </thead>\n",
              "  <tbody>\n",
              "    <tr>\n",
              "      <th id=\"T_f37bf_level0_row0\" class=\"row_heading level0 row0\" >3</th>\n",
              "      <td id=\"T_f37bf_row0_col0\" class=\"data row0 col0\" >mild</td>\n",
              "      <td id=\"T_f37bf_row0_col1\" class=\"data row0 col1\" >yes</td>\n",
              "    </tr>\n",
              "    <tr>\n",
              "      <th id=\"T_f37bf_level0_row1\" class=\"row_heading level0 row1\" >9</th>\n",
              "      <td id=\"T_f37bf_row1_col0\" class=\"data row1 col0\" >mild</td>\n",
              "      <td id=\"T_f37bf_row1_col1\" class=\"data row1 col1\" >yes</td>\n",
              "    </tr>\n",
              "    <tr>\n",
              "      <th id=\"T_f37bf_level0_row2\" class=\"row_heading level0 row2\" >13</th>\n",
              "      <td id=\"T_f37bf_row2_col0\" class=\"data row2 col0\" >mild</td>\n",
              "      <td id=\"T_f37bf_row2_col1\" class=\"data row2 col1\" >no</td>\n",
              "    </tr>\n",
              "  </tbody>\n",
              "</table>\n"
            ]
          },
          "metadata": {}
        },
        {
          "output_type": "stream",
          "name": "stdout",
          "text": [
            "Entropy of temp - mild = 0.918\n"
          ]
        },
        {
          "output_type": "display_data",
          "data": {
            "text/plain": [
              "<pandas.io.formats.style.Styler at 0x7911694f9150>"
            ],
            "text/html": [
              "<style type=\"text/css\">\n",
              "#T_97eb9 th {\n",
              "  background-color: lightgray;\n",
              "  border: 1px solid gray;\n",
              "  font-weight: bold;\n",
              "}\n",
              "#T_97eb9 td {\n",
              "  border: 1px solid gray;\n",
              "}\n",
              "#T_97eb9 tr:hover {\n",
              "  background-color: white;\n",
              "  border: 1.5px solid black;\n",
              "}\n",
              "#T_97eb9_row0_col0, #T_97eb9_row1_col0 {\n",
              "  width: 80px;\n",
              "}\n",
              "#T_97eb9_row0_col1 {\n",
              "  background-color: lightgreen;\n",
              "  width: 80px;\n",
              "}\n",
              "#T_97eb9_row1_col1 {\n",
              "  background-color: pink;\n",
              "  width: 80px;\n",
              "}\n",
              "</style>\n",
              "<table id=\"T_97eb9\" class=\"dataframe\">\n",
              "  <thead>\n",
              "    <tr>\n",
              "      <th class=\"blank level0\" >&nbsp;</th>\n",
              "      <th id=\"T_97eb9_level0_col0\" class=\"col_heading level0 col0\" >temp</th>\n",
              "      <th id=\"T_97eb9_level0_col1\" class=\"col_heading level0 col1\" >play</th>\n",
              "    </tr>\n",
              "  </thead>\n",
              "  <tbody>\n",
              "    <tr>\n",
              "      <th id=\"T_97eb9_level0_row0\" class=\"row_heading level0 row0\" >4</th>\n",
              "      <td id=\"T_97eb9_row0_col0\" class=\"data row0 col0\" >cool</td>\n",
              "      <td id=\"T_97eb9_row0_col1\" class=\"data row0 col1\" >yes</td>\n",
              "    </tr>\n",
              "    <tr>\n",
              "      <th id=\"T_97eb9_level0_row1\" class=\"row_heading level0 row1\" >5</th>\n",
              "      <td id=\"T_97eb9_row1_col0\" class=\"data row1 col0\" >cool</td>\n",
              "      <td id=\"T_97eb9_row1_col1\" class=\"data row1 col1\" >no</td>\n",
              "    </tr>\n",
              "  </tbody>\n",
              "</table>\n"
            ]
          },
          "metadata": {}
        },
        {
          "output_type": "stream",
          "name": "stdout",
          "text": [
            "Entropy of temp - cool = 1.0\n",
            "Information Gain for temp = 0.02\n"
          ]
        }
      ]
    },
    {
      "cell_type": "code",
      "source": [
        "#Humidity\n",
        "entropy_and_infogain(rainy, 'humidity')"
      ],
      "metadata": {
        "colab": {
          "base_uri": "https://localhost:8080/",
          "height": 298
        },
        "id": "1kDupOA_lgAW",
        "outputId": "d6491d7f-2edf-43c6-f8bd-64000c276ba0"
      },
      "execution_count": 18,
      "outputs": [
        {
          "output_type": "display_data",
          "data": {
            "text/plain": [
              "<pandas.io.formats.style.Styler at 0x7911694fb2b0>"
            ],
            "text/html": [
              "<style type=\"text/css\">\n",
              "#T_366c8 th {\n",
              "  background-color: lightgray;\n",
              "  border: 1px solid gray;\n",
              "  font-weight: bold;\n",
              "}\n",
              "#T_366c8 td {\n",
              "  border: 1px solid gray;\n",
              "}\n",
              "#T_366c8 tr:hover {\n",
              "  background-color: white;\n",
              "  border: 1.5px solid black;\n",
              "}\n",
              "#T_366c8_row0_col0, #T_366c8_row1_col0 {\n",
              "  width: 80px;\n",
              "}\n",
              "#T_366c8_row0_col1 {\n",
              "  background-color: lightgreen;\n",
              "  width: 80px;\n",
              "}\n",
              "#T_366c8_row1_col1 {\n",
              "  background-color: pink;\n",
              "  width: 80px;\n",
              "}\n",
              "</style>\n",
              "<table id=\"T_366c8\" class=\"dataframe\">\n",
              "  <thead>\n",
              "    <tr>\n",
              "      <th class=\"blank level0\" >&nbsp;</th>\n",
              "      <th id=\"T_366c8_level0_col0\" class=\"col_heading level0 col0\" >humidity</th>\n",
              "      <th id=\"T_366c8_level0_col1\" class=\"col_heading level0 col1\" >play</th>\n",
              "    </tr>\n",
              "  </thead>\n",
              "  <tbody>\n",
              "    <tr>\n",
              "      <th id=\"T_366c8_level0_row0\" class=\"row_heading level0 row0\" >3</th>\n",
              "      <td id=\"T_366c8_row0_col0\" class=\"data row0 col0\" >high</td>\n",
              "      <td id=\"T_366c8_row0_col1\" class=\"data row0 col1\" >yes</td>\n",
              "    </tr>\n",
              "    <tr>\n",
              "      <th id=\"T_366c8_level0_row1\" class=\"row_heading level0 row1\" >13</th>\n",
              "      <td id=\"T_366c8_row1_col0\" class=\"data row1 col0\" >high</td>\n",
              "      <td id=\"T_366c8_row1_col1\" class=\"data row1 col1\" >no</td>\n",
              "    </tr>\n",
              "  </tbody>\n",
              "</table>\n"
            ]
          },
          "metadata": {}
        },
        {
          "output_type": "stream",
          "name": "stdout",
          "text": [
            "Entropy of humidity - high = 1.0\n"
          ]
        },
        {
          "output_type": "display_data",
          "data": {
            "text/plain": [
              "<pandas.io.formats.style.Styler at 0x7911694fb2b0>"
            ],
            "text/html": [
              "<style type=\"text/css\">\n",
              "#T_fb53a th {\n",
              "  background-color: lightgray;\n",
              "  border: 1px solid gray;\n",
              "  font-weight: bold;\n",
              "}\n",
              "#T_fb53a td {\n",
              "  border: 1px solid gray;\n",
              "}\n",
              "#T_fb53a tr:hover {\n",
              "  background-color: white;\n",
              "  border: 1.5px solid black;\n",
              "}\n",
              "#T_fb53a_row0_col0, #T_fb53a_row1_col0, #T_fb53a_row2_col0 {\n",
              "  width: 80px;\n",
              "}\n",
              "#T_fb53a_row0_col1, #T_fb53a_row2_col1 {\n",
              "  background-color: lightgreen;\n",
              "  width: 80px;\n",
              "}\n",
              "#T_fb53a_row1_col1 {\n",
              "  background-color: pink;\n",
              "  width: 80px;\n",
              "}\n",
              "</style>\n",
              "<table id=\"T_fb53a\" class=\"dataframe\">\n",
              "  <thead>\n",
              "    <tr>\n",
              "      <th class=\"blank level0\" >&nbsp;</th>\n",
              "      <th id=\"T_fb53a_level0_col0\" class=\"col_heading level0 col0\" >humidity</th>\n",
              "      <th id=\"T_fb53a_level0_col1\" class=\"col_heading level0 col1\" >play</th>\n",
              "    </tr>\n",
              "  </thead>\n",
              "  <tbody>\n",
              "    <tr>\n",
              "      <th id=\"T_fb53a_level0_row0\" class=\"row_heading level0 row0\" >4</th>\n",
              "      <td id=\"T_fb53a_row0_col0\" class=\"data row0 col0\" >normal</td>\n",
              "      <td id=\"T_fb53a_row0_col1\" class=\"data row0 col1\" >yes</td>\n",
              "    </tr>\n",
              "    <tr>\n",
              "      <th id=\"T_fb53a_level0_row1\" class=\"row_heading level0 row1\" >5</th>\n",
              "      <td id=\"T_fb53a_row1_col0\" class=\"data row1 col0\" >normal</td>\n",
              "      <td id=\"T_fb53a_row1_col1\" class=\"data row1 col1\" >no</td>\n",
              "    </tr>\n",
              "    <tr>\n",
              "      <th id=\"T_fb53a_level0_row2\" class=\"row_heading level0 row2\" >9</th>\n",
              "      <td id=\"T_fb53a_row2_col0\" class=\"data row2 col0\" >normal</td>\n",
              "      <td id=\"T_fb53a_row2_col1\" class=\"data row2 col1\" >yes</td>\n",
              "    </tr>\n",
              "  </tbody>\n",
              "</table>\n"
            ]
          },
          "metadata": {}
        },
        {
          "output_type": "stream",
          "name": "stdout",
          "text": [
            "Entropy of humidity - normal = 0.918\n",
            "Information Gain for humidity = 0.02\n"
          ]
        }
      ]
    },
    {
      "cell_type": "code",
      "source": [
        "#Windy\n",
        "entropy_and_infogain(rainy, 'windy')"
      ],
      "metadata": {
        "colab": {
          "base_uri": "https://localhost:8080/",
          "height": 298
        },
        "id": "ee3TTPBYlmQ2",
        "outputId": "bb6b91fb-2cfe-4b36-e421-933244206cbf"
      },
      "execution_count": 19,
      "outputs": [
        {
          "output_type": "display_data",
          "data": {
            "text/plain": [
              "<pandas.io.formats.style.Styler at 0x7911694f97e0>"
            ],
            "text/html": [
              "<style type=\"text/css\">\n",
              "#T_a7fd1 th {\n",
              "  background-color: lightgray;\n",
              "  border: 1px solid gray;\n",
              "  font-weight: bold;\n",
              "}\n",
              "#T_a7fd1 td {\n",
              "  border: 1px solid gray;\n",
              "}\n",
              "#T_a7fd1 tr:hover {\n",
              "  background-color: white;\n",
              "  border: 1.5px solid black;\n",
              "}\n",
              "#T_a7fd1_row0_col0, #T_a7fd1_row1_col0, #T_a7fd1_row2_col0 {\n",
              "  width: 80px;\n",
              "}\n",
              "#T_a7fd1_row0_col1, #T_a7fd1_row1_col1, #T_a7fd1_row2_col1 {\n",
              "  background-color: lightgreen;\n",
              "  width: 80px;\n",
              "}\n",
              "</style>\n",
              "<table id=\"T_a7fd1\" class=\"dataframe\">\n",
              "  <thead>\n",
              "    <tr>\n",
              "      <th class=\"blank level0\" >&nbsp;</th>\n",
              "      <th id=\"T_a7fd1_level0_col0\" class=\"col_heading level0 col0\" >windy</th>\n",
              "      <th id=\"T_a7fd1_level0_col1\" class=\"col_heading level0 col1\" >play</th>\n",
              "    </tr>\n",
              "  </thead>\n",
              "  <tbody>\n",
              "    <tr>\n",
              "      <th id=\"T_a7fd1_level0_row0\" class=\"row_heading level0 row0\" >3</th>\n",
              "      <td id=\"T_a7fd1_row0_col0\" class=\"data row0 col0\" >False</td>\n",
              "      <td id=\"T_a7fd1_row0_col1\" class=\"data row0 col1\" >yes</td>\n",
              "    </tr>\n",
              "    <tr>\n",
              "      <th id=\"T_a7fd1_level0_row1\" class=\"row_heading level0 row1\" >4</th>\n",
              "      <td id=\"T_a7fd1_row1_col0\" class=\"data row1 col0\" >False</td>\n",
              "      <td id=\"T_a7fd1_row1_col1\" class=\"data row1 col1\" >yes</td>\n",
              "    </tr>\n",
              "    <tr>\n",
              "      <th id=\"T_a7fd1_level0_row2\" class=\"row_heading level0 row2\" >9</th>\n",
              "      <td id=\"T_a7fd1_row2_col0\" class=\"data row2 col0\" >False</td>\n",
              "      <td id=\"T_a7fd1_row2_col1\" class=\"data row2 col1\" >yes</td>\n",
              "    </tr>\n",
              "  </tbody>\n",
              "</table>\n"
            ]
          },
          "metadata": {}
        },
        {
          "output_type": "stream",
          "name": "stdout",
          "text": [
            "Entropy of windy - False = 0.0\n"
          ]
        },
        {
          "output_type": "display_data",
          "data": {
            "text/plain": [
              "<pandas.io.formats.style.Styler at 0x7911694f9c00>"
            ],
            "text/html": [
              "<style type=\"text/css\">\n",
              "#T_cff5d th {\n",
              "  background-color: lightgray;\n",
              "  border: 1px solid gray;\n",
              "  font-weight: bold;\n",
              "}\n",
              "#T_cff5d td {\n",
              "  border: 1px solid gray;\n",
              "}\n",
              "#T_cff5d tr:hover {\n",
              "  background-color: white;\n",
              "  border: 1.5px solid black;\n",
              "}\n",
              "#T_cff5d_row0_col0, #T_cff5d_row1_col0 {\n",
              "  width: 80px;\n",
              "}\n",
              "#T_cff5d_row0_col1, #T_cff5d_row1_col1 {\n",
              "  background-color: pink;\n",
              "  width: 80px;\n",
              "}\n",
              "</style>\n",
              "<table id=\"T_cff5d\" class=\"dataframe\">\n",
              "  <thead>\n",
              "    <tr>\n",
              "      <th class=\"blank level0\" >&nbsp;</th>\n",
              "      <th id=\"T_cff5d_level0_col0\" class=\"col_heading level0 col0\" >windy</th>\n",
              "      <th id=\"T_cff5d_level0_col1\" class=\"col_heading level0 col1\" >play</th>\n",
              "    </tr>\n",
              "  </thead>\n",
              "  <tbody>\n",
              "    <tr>\n",
              "      <th id=\"T_cff5d_level0_row0\" class=\"row_heading level0 row0\" >5</th>\n",
              "      <td id=\"T_cff5d_row0_col0\" class=\"data row0 col0\" >True</td>\n",
              "      <td id=\"T_cff5d_row0_col1\" class=\"data row0 col1\" >no</td>\n",
              "    </tr>\n",
              "    <tr>\n",
              "      <th id=\"T_cff5d_level0_row1\" class=\"row_heading level0 row1\" >13</th>\n",
              "      <td id=\"T_cff5d_row1_col0\" class=\"data row1 col0\" >True</td>\n",
              "      <td id=\"T_cff5d_row1_col1\" class=\"data row1 col1\" >no</td>\n",
              "    </tr>\n",
              "  </tbody>\n",
              "</table>\n"
            ]
          },
          "metadata": {}
        },
        {
          "output_type": "stream",
          "name": "stdout",
          "text": [
            "Entropy of windy - True = 0.0\n",
            "Information Gain for windy = 0.971\n"
          ]
        }
      ]
    },
    {
      "cell_type": "code",
      "source": [],
      "metadata": {
        "id": "9ybF4CNAltiW"
      },
      "execution_count": null,
      "outputs": []
    }
  ]
}